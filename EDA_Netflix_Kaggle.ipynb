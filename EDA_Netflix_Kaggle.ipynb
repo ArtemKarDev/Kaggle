{
  "nbformat": 4,
  "nbformat_minor": 0,
  "metadata": {
    "colab": {
      "name": "EDA_Netflix_Kaggle.ipynb",
      "provenance": [],
      "collapsed_sections": [],
      "authorship_tag": "ABX9TyOoyIwg9zFOibsL9irs9hZg",
      "include_colab_link": true
    },
    "kernelspec": {
      "name": "python3",
      "display_name": "Python 3"
    },
    "language_info": {
      "name": "python"
    }
  },
  "cells": [
    {
      "cell_type": "markdown",
      "metadata": {
        "id": "view-in-github",
        "colab_type": "text"
      },
      "source": [
        "<a href=\"https://colab.research.google.com/github/ArtemKarDev/Kaggle/blob/main/EDA_Netflix_Kaggle.ipynb\" target=\"_parent\"><img src=\"https://colab.research.google.com/assets/colab-badge.svg\" alt=\"Open In Colab\"/></a>"
      ]
    },
    {
      "cell_type": "markdown",
      "source": [
        "Netflix - развивающийся популярный стриминговый сервис. \n",
        "\n",
        "Проведем разведочный анализ данных с использованием интерактивной библиотеки визулизации данных - Plotly. <br>\n",
        "Построим рекомендательную систему на основе описаний к фильму"
      ],
      "metadata": {
        "id": "idDEnXNLQ1gk"
      }
    },
    {
      "cell_type": "code",
      "execution_count": 1,
      "metadata": {
        "id": "MYlI1ZZBDo88"
      },
      "outputs": [],
      "source": [
        "# импортируем необходимые библиотеки\n",
        "import pandas as pd\n",
        "import numpy as np\n",
        "import matplotlib.pyplot as plt\n",
        "import seaborn as sns\n",
        "import plotly.express as px\n",
        "from collections import Counter"
      ]
    },
    {
      "cell_type": "code",
      "source": [
        "! pip install -U kaleido"
      ],
      "metadata": {
        "colab": {
          "base_uri": "https://localhost:8080/"
        },
        "id": "tZ5SrY7Ro-7a",
        "outputId": "c796c71d-f39b-4657-a2a0-f29e55ad9350"
      },
      "execution_count": 2,
      "outputs": [
        {
          "output_type": "stream",
          "name": "stdout",
          "text": [
            "Looking in indexes: https://pypi.org/simple, https://us-python.pkg.dev/colab-wheels/public/simple/\n",
            "Collecting kaleido\n",
            "  Downloading kaleido-0.2.1-py2.py3-none-manylinux1_x86_64.whl (79.9 MB)\n",
            "\u001b[K     |████████████████████████████████| 79.9 MB 116 kB/s \n",
            "\u001b[?25hInstalling collected packages: kaleido\n",
            "Successfully installed kaleido-0.2.1\n"
          ]
        }
      ]
    },
    {
      "cell_type": "markdown",
      "source": [
        "Загрузил датасет с https://www.kaggle.com/datasets/shivamb/netflix-shows\n",
        "к себе на google-диск "
      ],
      "metadata": {
        "id": "bsDl0dEhTvdq"
      }
    },
    {
      "cell_type": "code",
      "source": [
        "# загружаем датасет в ноутбус с моего google-диска\n",
        "!wget 'https://drive.google.com/uc?id=1JscRWVxO3DyBBBBr21fpeRHeUcmN5yhL' -O netflix_titles.csv\n"
      ],
      "metadata": {
        "colab": {
          "base_uri": "https://localhost:8080/"
        },
        "id": "XKrjny_ZQTBj",
        "outputId": "46bb757f-2106-4d18-c116-6134d664e28c"
      },
      "execution_count": 3,
      "outputs": [
        {
          "output_type": "stream",
          "name": "stdout",
          "text": [
            "--2022-08-02 20:13:27--  https://drive.google.com/uc?id=1JscRWVxO3DyBBBBr21fpeRHeUcmN5yhL\n",
            "Resolving drive.google.com (drive.google.com)... 142.251.120.101, 142.251.120.100, 142.251.120.139, ...\n",
            "Connecting to drive.google.com (drive.google.com)|142.251.120.101|:443... connected.\n",
            "HTTP request sent, awaiting response... 303 See Other\n",
            "Location: https://doc-08-14-docs.googleusercontent.com/docs/securesc/ha0ro937gcuc7l7deffksulhg5h7mbp1/2alr4bkogrghjfpphj7n09hmn6lm6ncm/1659471150000/00838955718561688027/*/1JscRWVxO3DyBBBBr21fpeRHeUcmN5yhL?uuid=8f6c34be-68c0-4ffc-8589-fab1a41bb084 [following]\n",
            "Warning: wildcards not supported in HTTP.\n",
            "--2022-08-02 20:13:28--  https://doc-08-14-docs.googleusercontent.com/docs/securesc/ha0ro937gcuc7l7deffksulhg5h7mbp1/2alr4bkogrghjfpphj7n09hmn6lm6ncm/1659471150000/00838955718561688027/*/1JscRWVxO3DyBBBBr21fpeRHeUcmN5yhL?uuid=8f6c34be-68c0-4ffc-8589-fab1a41bb084\n",
            "Resolving doc-08-14-docs.googleusercontent.com (doc-08-14-docs.googleusercontent.com)... 74.125.129.132, 2607:f8b0:4001:c15::84\n",
            "Connecting to doc-08-14-docs.googleusercontent.com (doc-08-14-docs.googleusercontent.com)|74.125.129.132|:443... connected.\n",
            "HTTP request sent, awaiting response... 200 OK\n",
            "Length: 3399671 (3.2M) [text/csv]\n",
            "Saving to: ‘netflix_titles.csv’\n",
            "\n",
            "netflix_titles.csv  100%[===================>]   3.24M  --.-KB/s    in 0.04s   \n",
            "\n",
            "2022-08-02 20:13:29 (86.8 MB/s) - ‘netflix_titles.csv’ saved [3399671/3399671]\n",
            "\n"
          ]
        }
      ]
    },
    {
      "cell_type": "code",
      "source": [
        "netflix_overall = pd.read_csv('netflix_titles.csv')\n",
        "netflix_overall.sample(10)"
      ],
      "metadata": {
        "colab": {
          "base_uri": "https://localhost:8080/",
          "height": 580
        },
        "id": "4SGv6d58VGxC",
        "outputId": "b32f55cb-bff6-4f3b-f671-f20e82bcc808"
      },
      "execution_count": 4,
      "outputs": [
        {
          "output_type": "execute_result",
          "data": {
            "text/plain": [
              "     show_id     type                      title             director  \\\n",
              "8486   s8487    Movie                   The Ring       Gore Verbinski   \n",
              "4315   s4316    Movie           5 Star Christmas           Marco Risi   \n",
              "6913   s6914    Movie             Hamburger Hill           John Irvin   \n",
              "350     s351    Movie              Space Cowboys       Clint Eastwood   \n",
              "6829   s6830    Movie       Garuda in My Heart 2       Rudy Soedjarwo   \n",
              "5303   s5304    Movie                 Manoranjan        Shammi Kapoor   \n",
              "8107   s8108  TV Show      Strong Girl Bong-soon                  NaN   \n",
              "1117   s1118    Movie   Ibrahim a Fate to Define         Lina Al Abed   \n",
              "6338   s6339    Movie  Blue Is the Warmest Color  Abdellatif Kechiche   \n",
              "5575   s5576  TV Show                Cheer Squad                  NaN   \n",
              "\n",
              "                                                   cast  \\\n",
              "8486  Naomi Watts, Martin Henderson, David Dorfman, ...   \n",
              "4315  Massimo Ghini, Ricky Memphis, Martina Stella, ...   \n",
              "6913  Anthony Barille, Michael Boatman, Don Cheadle,...   \n",
              "350   Clint Eastwood, Tommy Lee Jones, Donald Suther...   \n",
              "6829  Emir Mahira, Aldo Tansani, Maudy Koesnaedi, Ra...   \n",
              "5303  Sanjeev Kumar, Zeenat Aman, Shammi Kapoor, Dev...   \n",
              "8107  Park Bo-young, Park Hyung-sik, Ji Soo, Shim Hy...   \n",
              "1117                                                NaN   \n",
              "6338  Léa Seydoux, Adèle Exarchopoulos, Salim Kechio...   \n",
              "5575                                                NaN   \n",
              "\n",
              "                                 country         date_added  release_year  \\\n",
              "8486                       United States    January 1, 2020          2002   \n",
              "4315                               Italy   December 7, 2018          2018   \n",
              "6913                       United States  November 23, 2019          1987   \n",
              "350                        United States     August 1, 2021          2000   \n",
              "6829                           Indonesia  November 30, 2018          2011   \n",
              "5303                               India  September 1, 2017          1974   \n",
              "8107                         South Korea  November 24, 2019          2017   \n",
              "1117  Lebanon, Palestine, Denmark, Qatar      April 1, 2021          2019   \n",
              "6338              France, Belgium, Spain    August 26, 2016          2013   \n",
              "5575                       United States     March 14, 2017          2016   \n",
              "\n",
              "     rating  duration                                          listed_in  \\\n",
              "8486  PG-13   116 min                           Horror Movies, Thrillers   \n",
              "4315  TV-14    96 min                     Comedies, International Movies   \n",
              "6913      R   110 min                         Action & Adventure, Dramas   \n",
              "350   PG-13   130 min       Action & Adventure, Dramas, Sci-Fi & Fantasy   \n",
              "6829  TV-PG    95 min    Children & Family Movies, Dramas, Sports Movies   \n",
              "5303  TV-14   162 min   Comedies, International Movies, Music & Musicals   \n",
              "8107  TV-14  1 Season  Crime TV Shows, International TV Shows, Korean...   \n",
              "1117  TV-PG    75 min                Documentaries, International Movies   \n",
              "6338  NC-17   180 min   Dramas, Independent Movies, International Movies   \n",
              "5575  TV-PG  1 Season                          Reality TV, Teen TV Shows   \n",
              "\n",
              "                                            description  \n",
              "8486  A reporter watches a video that supposedly set...  \n",
              "4315  When the Italian prime minister meets his love...  \n",
              "6913  The Vietnam War's horrors come brutally to lif...  \n",
              "350   A retired engineer agrees to help NASA prevent...  \n",
              "6829  A young soccer player sets out to prove he can...  \n",
              "5303  After getting fired, a police officer connects...  \n",
              "8107  Born with supernatural strength, Bong-soon fig...  \n",
              "1117  Raised in a quiet home, Lina searches for answ...  \n",
              "6338  Determined to fall in love, 15-year-old Adele ...  \n",
              "5575  Follow the Great White Sharks, a world-champio...  "
            ],
            "text/html": [
              "\n",
              "  <div id=\"df-d409533b-5d82-4dac-b824-914453562350\">\n",
              "    <div class=\"colab-df-container\">\n",
              "      <div>\n",
              "<style scoped>\n",
              "    .dataframe tbody tr th:only-of-type {\n",
              "        vertical-align: middle;\n",
              "    }\n",
              "\n",
              "    .dataframe tbody tr th {\n",
              "        vertical-align: top;\n",
              "    }\n",
              "\n",
              "    .dataframe thead th {\n",
              "        text-align: right;\n",
              "    }\n",
              "</style>\n",
              "<table border=\"1\" class=\"dataframe\">\n",
              "  <thead>\n",
              "    <tr style=\"text-align: right;\">\n",
              "      <th></th>\n",
              "      <th>show_id</th>\n",
              "      <th>type</th>\n",
              "      <th>title</th>\n",
              "      <th>director</th>\n",
              "      <th>cast</th>\n",
              "      <th>country</th>\n",
              "      <th>date_added</th>\n",
              "      <th>release_year</th>\n",
              "      <th>rating</th>\n",
              "      <th>duration</th>\n",
              "      <th>listed_in</th>\n",
              "      <th>description</th>\n",
              "    </tr>\n",
              "  </thead>\n",
              "  <tbody>\n",
              "    <tr>\n",
              "      <th>8486</th>\n",
              "      <td>s8487</td>\n",
              "      <td>Movie</td>\n",
              "      <td>The Ring</td>\n",
              "      <td>Gore Verbinski</td>\n",
              "      <td>Naomi Watts, Martin Henderson, David Dorfman, ...</td>\n",
              "      <td>United States</td>\n",
              "      <td>January 1, 2020</td>\n",
              "      <td>2002</td>\n",
              "      <td>PG-13</td>\n",
              "      <td>116 min</td>\n",
              "      <td>Horror Movies, Thrillers</td>\n",
              "      <td>A reporter watches a video that supposedly set...</td>\n",
              "    </tr>\n",
              "    <tr>\n",
              "      <th>4315</th>\n",
              "      <td>s4316</td>\n",
              "      <td>Movie</td>\n",
              "      <td>5 Star Christmas</td>\n",
              "      <td>Marco Risi</td>\n",
              "      <td>Massimo Ghini, Ricky Memphis, Martina Stella, ...</td>\n",
              "      <td>Italy</td>\n",
              "      <td>December 7, 2018</td>\n",
              "      <td>2018</td>\n",
              "      <td>TV-14</td>\n",
              "      <td>96 min</td>\n",
              "      <td>Comedies, International Movies</td>\n",
              "      <td>When the Italian prime minister meets his love...</td>\n",
              "    </tr>\n",
              "    <tr>\n",
              "      <th>6913</th>\n",
              "      <td>s6914</td>\n",
              "      <td>Movie</td>\n",
              "      <td>Hamburger Hill</td>\n",
              "      <td>John Irvin</td>\n",
              "      <td>Anthony Barille, Michael Boatman, Don Cheadle,...</td>\n",
              "      <td>United States</td>\n",
              "      <td>November 23, 2019</td>\n",
              "      <td>1987</td>\n",
              "      <td>R</td>\n",
              "      <td>110 min</td>\n",
              "      <td>Action &amp; Adventure, Dramas</td>\n",
              "      <td>The Vietnam War's horrors come brutally to lif...</td>\n",
              "    </tr>\n",
              "    <tr>\n",
              "      <th>350</th>\n",
              "      <td>s351</td>\n",
              "      <td>Movie</td>\n",
              "      <td>Space Cowboys</td>\n",
              "      <td>Clint Eastwood</td>\n",
              "      <td>Clint Eastwood, Tommy Lee Jones, Donald Suther...</td>\n",
              "      <td>United States</td>\n",
              "      <td>August 1, 2021</td>\n",
              "      <td>2000</td>\n",
              "      <td>PG-13</td>\n",
              "      <td>130 min</td>\n",
              "      <td>Action &amp; Adventure, Dramas, Sci-Fi &amp; Fantasy</td>\n",
              "      <td>A retired engineer agrees to help NASA prevent...</td>\n",
              "    </tr>\n",
              "    <tr>\n",
              "      <th>6829</th>\n",
              "      <td>s6830</td>\n",
              "      <td>Movie</td>\n",
              "      <td>Garuda in My Heart 2</td>\n",
              "      <td>Rudy Soedjarwo</td>\n",
              "      <td>Emir Mahira, Aldo Tansani, Maudy Koesnaedi, Ra...</td>\n",
              "      <td>Indonesia</td>\n",
              "      <td>November 30, 2018</td>\n",
              "      <td>2011</td>\n",
              "      <td>TV-PG</td>\n",
              "      <td>95 min</td>\n",
              "      <td>Children &amp; Family Movies, Dramas, Sports Movies</td>\n",
              "      <td>A young soccer player sets out to prove he can...</td>\n",
              "    </tr>\n",
              "    <tr>\n",
              "      <th>5303</th>\n",
              "      <td>s5304</td>\n",
              "      <td>Movie</td>\n",
              "      <td>Manoranjan</td>\n",
              "      <td>Shammi Kapoor</td>\n",
              "      <td>Sanjeev Kumar, Zeenat Aman, Shammi Kapoor, Dev...</td>\n",
              "      <td>India</td>\n",
              "      <td>September 1, 2017</td>\n",
              "      <td>1974</td>\n",
              "      <td>TV-14</td>\n",
              "      <td>162 min</td>\n",
              "      <td>Comedies, International Movies, Music &amp; Musicals</td>\n",
              "      <td>After getting fired, a police officer connects...</td>\n",
              "    </tr>\n",
              "    <tr>\n",
              "      <th>8107</th>\n",
              "      <td>s8108</td>\n",
              "      <td>TV Show</td>\n",
              "      <td>Strong Girl Bong-soon</td>\n",
              "      <td>NaN</td>\n",
              "      <td>Park Bo-young, Park Hyung-sik, Ji Soo, Shim Hy...</td>\n",
              "      <td>South Korea</td>\n",
              "      <td>November 24, 2019</td>\n",
              "      <td>2017</td>\n",
              "      <td>TV-14</td>\n",
              "      <td>1 Season</td>\n",
              "      <td>Crime TV Shows, International TV Shows, Korean...</td>\n",
              "      <td>Born with supernatural strength, Bong-soon fig...</td>\n",
              "    </tr>\n",
              "    <tr>\n",
              "      <th>1117</th>\n",
              "      <td>s1118</td>\n",
              "      <td>Movie</td>\n",
              "      <td>Ibrahim a Fate to Define</td>\n",
              "      <td>Lina Al Abed</td>\n",
              "      <td>NaN</td>\n",
              "      <td>Lebanon, Palestine, Denmark, Qatar</td>\n",
              "      <td>April 1, 2021</td>\n",
              "      <td>2019</td>\n",
              "      <td>TV-PG</td>\n",
              "      <td>75 min</td>\n",
              "      <td>Documentaries, International Movies</td>\n",
              "      <td>Raised in a quiet home, Lina searches for answ...</td>\n",
              "    </tr>\n",
              "    <tr>\n",
              "      <th>6338</th>\n",
              "      <td>s6339</td>\n",
              "      <td>Movie</td>\n",
              "      <td>Blue Is the Warmest Color</td>\n",
              "      <td>Abdellatif Kechiche</td>\n",
              "      <td>Léa Seydoux, Adèle Exarchopoulos, Salim Kechio...</td>\n",
              "      <td>France, Belgium, Spain</td>\n",
              "      <td>August 26, 2016</td>\n",
              "      <td>2013</td>\n",
              "      <td>NC-17</td>\n",
              "      <td>180 min</td>\n",
              "      <td>Dramas, Independent Movies, International Movies</td>\n",
              "      <td>Determined to fall in love, 15-year-old Adele ...</td>\n",
              "    </tr>\n",
              "    <tr>\n",
              "      <th>5575</th>\n",
              "      <td>s5576</td>\n",
              "      <td>TV Show</td>\n",
              "      <td>Cheer Squad</td>\n",
              "      <td>NaN</td>\n",
              "      <td>NaN</td>\n",
              "      <td>United States</td>\n",
              "      <td>March 14, 2017</td>\n",
              "      <td>2016</td>\n",
              "      <td>TV-PG</td>\n",
              "      <td>1 Season</td>\n",
              "      <td>Reality TV, Teen TV Shows</td>\n",
              "      <td>Follow the Great White Sharks, a world-champio...</td>\n",
              "    </tr>\n",
              "  </tbody>\n",
              "</table>\n",
              "</div>\n",
              "      <button class=\"colab-df-convert\" onclick=\"convertToInteractive('df-d409533b-5d82-4dac-b824-914453562350')\"\n",
              "              title=\"Convert this dataframe to an interactive table.\"\n",
              "              style=\"display:none;\">\n",
              "        \n",
              "  <svg xmlns=\"http://www.w3.org/2000/svg\" height=\"24px\"viewBox=\"0 0 24 24\"\n",
              "       width=\"24px\">\n",
              "    <path d=\"M0 0h24v24H0V0z\" fill=\"none\"/>\n",
              "    <path d=\"M18.56 5.44l.94 2.06.94-2.06 2.06-.94-2.06-.94-.94-2.06-.94 2.06-2.06.94zm-11 1L8.5 8.5l.94-2.06 2.06-.94-2.06-.94L8.5 2.5l-.94 2.06-2.06.94zm10 10l.94 2.06.94-2.06 2.06-.94-2.06-.94-.94-2.06-.94 2.06-2.06.94z\"/><path d=\"M17.41 7.96l-1.37-1.37c-.4-.4-.92-.59-1.43-.59-.52 0-1.04.2-1.43.59L10.3 9.45l-7.72 7.72c-.78.78-.78 2.05 0 2.83L4 21.41c.39.39.9.59 1.41.59.51 0 1.02-.2 1.41-.59l7.78-7.78 2.81-2.81c.8-.78.8-2.07 0-2.86zM5.41 20L4 18.59l7.72-7.72 1.47 1.35L5.41 20z\"/>\n",
              "  </svg>\n",
              "      </button>\n",
              "      \n",
              "  <style>\n",
              "    .colab-df-container {\n",
              "      display:flex;\n",
              "      flex-wrap:wrap;\n",
              "      gap: 12px;\n",
              "    }\n",
              "\n",
              "    .colab-df-convert {\n",
              "      background-color: #E8F0FE;\n",
              "      border: none;\n",
              "      border-radius: 50%;\n",
              "      cursor: pointer;\n",
              "      display: none;\n",
              "      fill: #1967D2;\n",
              "      height: 32px;\n",
              "      padding: 0 0 0 0;\n",
              "      width: 32px;\n",
              "    }\n",
              "\n",
              "    .colab-df-convert:hover {\n",
              "      background-color: #E2EBFA;\n",
              "      box-shadow: 0px 1px 2px rgba(60, 64, 67, 0.3), 0px 1px 3px 1px rgba(60, 64, 67, 0.15);\n",
              "      fill: #174EA6;\n",
              "    }\n",
              "\n",
              "    [theme=dark] .colab-df-convert {\n",
              "      background-color: #3B4455;\n",
              "      fill: #D2E3FC;\n",
              "    }\n",
              "\n",
              "    [theme=dark] .colab-df-convert:hover {\n",
              "      background-color: #434B5C;\n",
              "      box-shadow: 0px 1px 3px 1px rgba(0, 0, 0, 0.15);\n",
              "      filter: drop-shadow(0px 1px 2px rgba(0, 0, 0, 0.3));\n",
              "      fill: #FFFFFF;\n",
              "    }\n",
              "  </style>\n",
              "\n",
              "      <script>\n",
              "        const buttonEl =\n",
              "          document.querySelector('#df-d409533b-5d82-4dac-b824-914453562350 button.colab-df-convert');\n",
              "        buttonEl.style.display =\n",
              "          google.colab.kernel.accessAllowed ? 'block' : 'none';\n",
              "\n",
              "        async function convertToInteractive(key) {\n",
              "          const element = document.querySelector('#df-d409533b-5d82-4dac-b824-914453562350');\n",
              "          const dataTable =\n",
              "            await google.colab.kernel.invokeFunction('convertToInteractive',\n",
              "                                                     [key], {});\n",
              "          if (!dataTable) return;\n",
              "\n",
              "          const docLinkHtml = 'Like what you see? Visit the ' +\n",
              "            '<a target=\"_blank\" href=https://colab.research.google.com/notebooks/data_table.ipynb>data table notebook</a>'\n",
              "            + ' to learn more about interactive tables.';\n",
              "          element.innerHTML = '';\n",
              "          dataTable['output_type'] = 'display_data';\n",
              "          await google.colab.output.renderOutput(dataTable, element);\n",
              "          const docLink = document.createElement('div');\n",
              "          docLink.innerHTML = docLinkHtml;\n",
              "          element.appendChild(docLink);\n",
              "        }\n",
              "      </script>\n",
              "    </div>\n",
              "  </div>\n",
              "  "
            ]
          },
          "metadata": {},
          "execution_count": 4
        }
      ]
    },
    {
      "cell_type": "code",
      "source": [
        "netflix_overall.info()"
      ],
      "metadata": {
        "id": "O3F4gIuIVU0c",
        "colab": {
          "base_uri": "https://localhost:8080/"
        },
        "outputId": "2bc3e882-ff57-4391-b537-321e347c532b"
      },
      "execution_count": 5,
      "outputs": [
        {
          "output_type": "stream",
          "name": "stdout",
          "text": [
            "<class 'pandas.core.frame.DataFrame'>\n",
            "RangeIndex: 8807 entries, 0 to 8806\n",
            "Data columns (total 12 columns):\n",
            " #   Column        Non-Null Count  Dtype \n",
            "---  ------        --------------  ----- \n",
            " 0   show_id       8807 non-null   object\n",
            " 1   type          8807 non-null   object\n",
            " 2   title         8807 non-null   object\n",
            " 3   director      6173 non-null   object\n",
            " 4   cast          7982 non-null   object\n",
            " 5   country       7976 non-null   object\n",
            " 6   date_added    8797 non-null   object\n",
            " 7   release_year  8807 non-null   int64 \n",
            " 8   rating        8803 non-null   object\n",
            " 9   duration      8804 non-null   object\n",
            " 10  listed_in     8807 non-null   object\n",
            " 11  description   8807 non-null   object\n",
            "dtypes: int64(1), object(11)\n",
            "memory usage: 825.8+ KB\n"
          ]
        }
      ]
    },
    {
      "cell_type": "markdown",
      "source": [
        "наблюдаем наличие пропусков в некоторых колонках, но для разведки это не кретично."
      ],
      "metadata": {
        "id": "uxUABjHYdUMf"
      }
    },
    {
      "cell_type": "code",
      "source": [
        "netflix_shows = netflix_overall[netflix_overall['type'] == 'TV Show'].copy()\n",
        "\n",
        "netflix_movie = netflix_overall[netflix_overall['type'] == 'Movie'].copy()"
      ],
      "metadata": {
        "id": "gc_r5gD1bSG3"
      },
      "execution_count": 6,
      "outputs": []
    },
    {
      "cell_type": "code",
      "source": [
        "import plotly.io as pio\n",
        "pio.renderers.default = \"png\"\n",
        "png_renderer = pio.renderers[\"png\"]"
      ],
      "metadata": {
        "id": "M309JB6wrWx9"
      },
      "execution_count": 7,
      "outputs": []
    },
    {
      "cell_type": "code",
      "source": [
        "netflix_counts = netflix_overall['type'].value_counts()\n",
        "\n",
        "fig = px.bar(netflix_counts, x=\"type\", color='type', title=\"Counts\", text_auto='.3s')\n",
        "fig.update_layout(autosize=False, width=600, height=400)\n",
        "fig.show()\n"
      ],
      "metadata": {
        "colab": {
          "base_uri": "https://localhost:8080/",
          "height": 417
        },
        "id": "e_xeFx9Kz54w",
        "outputId": "1e86816b-8d9c-4038-8c87-b56ea2265ba5"
      },
      "execution_count": 8,
      "outputs": [
        {
          "output_type": "display_data",
          "data": {
            "image/png": "[encoded data removed]"
          },
          "metadata": {}
        }
      ]
    },
    {
      "cell_type": "markdown",
      "source": [
        "Количество фильмов на Netflix больше чем сериалов более чем в 2 раза"
      ],
      "metadata": {
        "id": "40_X0alQyv6J"
      }
    },
    {
      "cell_type": "markdown",
      "source": [
        "### Длительность видеоконтента"
      ],
      "metadata": {
        "id": "n2JasWWu5sLM"
      }
    },
    {
      "cell_type": "code",
      "source": [
        "topdirs = pd.value_counts(netflix_overall['duration'])\n",
        "topdirs.head(10)"
      ],
      "metadata": {
        "colab": {
          "base_uri": "https://localhost:8080/"
        },
        "id": "Wr99BDah44Eo",
        "outputId": "fdca8621-f3f1-4295-84a0-4f7eadb5b1ab"
      },
      "execution_count": 9,
      "outputs": [
        {
          "output_type": "execute_result",
          "data": {
            "text/plain": [
              "1 Season     1793\n",
              "2 Seasons     425\n",
              "3 Seasons     199\n",
              "90 min        152\n",
              "94 min        146\n",
              "97 min        146\n",
              "93 min        146\n",
              "91 min        144\n",
              "95 min        137\n",
              "96 min        130\n",
              "Name: duration, dtype: int64"
            ]
          },
          "metadata": {},
          "execution_count": 9
        }
      ]
    },
    {
      "cell_type": "code",
      "source": [
        "from plotly import graph_objects as go\n",
        "\n",
        "fig = go.Figure([ \n",
        "      go.Bar(x=topdirs.index, \n",
        "             y=topdirs.values, \n",
        "             text=topdirs.values, \n",
        "             marker_color='indianred'\n",
        "             ) \n",
        "      ])\n",
        "\n",
        "fig.update_traces(texttemplate='%{text:.2s}', textposition='outside')\n",
        "fig.show('png')"
      ],
      "metadata": {
        "colab": {
          "base_uri": "https://localhost:8080/",
          "height": 517
        },
        "id": "rjANJhkY433q",
        "outputId": "ef9aeb1d-deaa-4a5f-9cdc-7024750dfb68"
      },
      "execution_count": 10,
      "outputs": [
        {
          "output_type": "display_data",
          "data": {
            "image/png": "[encoded data removed]"
          },
          "metadata": {}
        }
      ]
    },
    {
      "cell_type": "markdown",
      "source": [
        "Длительность в таблице указана в текстовом формате. Чаще всего указывается длительность - 'Season', тоесть Сезон - для твшоу(сериалов). но мы же знаем что фильмов больше, да - но длительность фильмов очень сильно вариативна."
      ],
      "metadata": {
        "id": "AJg-KAya682q"
      }
    },
    {
      "cell_type": "markdown",
      "source": [
        "# Анализ фильмов"
      ],
      "metadata": {
        "id": "aTjyFp8m_iAN"
      }
    },
    {
      "cell_type": "markdown",
      "source": [
        "## Какой месяц, самый перспективный для релиза контента?\n",
        "вычислим месяц с наименьшим количеством публикуемого контента - для наименьшей конкуренции за зрителя"
      ],
      "metadata": {
        "id": "pxb1JkZ5_myf"
      }
    },
    {
      "cell_type": "code",
      "source": [
        "# проверим есть ли пропуски в датах публикации фильма\n",
        "netflix_overall.isna().sum()"
      ],
      "metadata": {
        "colab": {
          "base_uri": "https://localhost:8080/"
        },
        "id": "YXmj5dzf_8wu",
        "outputId": "a5539dad-e3b7-4216-c173-ae3b812882ee"
      },
      "execution_count": 11,
      "outputs": [
        {
          "output_type": "execute_result",
          "data": {
            "text/plain": [
              "show_id            0\n",
              "type               0\n",
              "title              0\n",
              "director        2634\n",
              "cast             825\n",
              "country          831\n",
              "date_added        10\n",
              "release_year       0\n",
              "rating             4\n",
              "duration           3\n",
              "listed_in          0\n",
              "description        0\n",
              "dtype: int64"
            ]
          },
          "metadata": {},
          "execution_count": 11
        }
      ]
    },
    {
      "cell_type": "code",
      "source": [
        "# дропнем записи с пустой датой публикации\n",
        "netflix_date = netflix_shows[['date_added']].dropna()\n",
        "netflix_date.isna().sum()"
      ],
      "metadata": {
        "colab": {
          "base_uri": "https://localhost:8080/"
        },
        "id": "Gb_US9nBAKbb",
        "outputId": "90fa3f68-c043-432f-b80b-b3665ecc9731"
      },
      "execution_count": 12,
      "outputs": [
        {
          "output_type": "execute_result",
          "data": {
            "text/plain": [
              "date_added    0\n",
              "dtype: int64"
            ]
          },
          "metadata": {},
          "execution_count": 12
        }
      ]
    },
    {
      "cell_type": "code",
      "source": [
        "# посмотрим что получилось\n",
        "netflix_date.sample(5)"
      ],
      "metadata": {
        "colab": {
          "base_uri": "https://localhost:8080/",
          "height": 206
        },
        "id": "IWKSGqxmAsgn",
        "outputId": "637e6f66-1087-402a-ea79-f06a50af17b7"
      },
      "execution_count": 13,
      "outputs": [
        {
          "output_type": "execute_result",
          "data": {
            "text/plain": [
              "            date_added\n",
              "8533  January 22, 2018\n",
              "5405      July 1, 2017\n",
              "6587      July 1, 2017\n",
              "7828     April 1, 2018\n",
              "3589   August 15, 2019"
            ],
            "text/html": [
              "\n",
              "  <div id=\"df-fb464aeb-dd7d-49da-93f8-e211f2225c92\">\n",
              "    <div class=\"colab-df-container\">\n",
              "      <div>\n",
              "<style scoped>\n",
              "    .dataframe tbody tr th:only-of-type {\n",
              "        vertical-align: middle;\n",
              "    }\n",
              "\n",
              "    .dataframe tbody tr th {\n",
              "        vertical-align: top;\n",
              "    }\n",
              "\n",
              "    .dataframe thead th {\n",
              "        text-align: right;\n",
              "    }\n",
              "</style>\n",
              "<table border=\"1\" class=\"dataframe\">\n",
              "  <thead>\n",
              "    <tr style=\"text-align: right;\">\n",
              "      <th></th>\n",
              "      <th>date_added</th>\n",
              "    </tr>\n",
              "  </thead>\n",
              "  <tbody>\n",
              "    <tr>\n",
              "      <th>8533</th>\n",
              "      <td>January 22, 2018</td>\n",
              "    </tr>\n",
              "    <tr>\n",
              "      <th>5405</th>\n",
              "      <td>July 1, 2017</td>\n",
              "    </tr>\n",
              "    <tr>\n",
              "      <th>6587</th>\n",
              "      <td>July 1, 2017</td>\n",
              "    </tr>\n",
              "    <tr>\n",
              "      <th>7828</th>\n",
              "      <td>April 1, 2018</td>\n",
              "    </tr>\n",
              "    <tr>\n",
              "      <th>3589</th>\n",
              "      <td>August 15, 2019</td>\n",
              "    </tr>\n",
              "  </tbody>\n",
              "</table>\n",
              "</div>\n",
              "      <button class=\"colab-df-convert\" onclick=\"convertToInteractive('df-fb464aeb-dd7d-49da-93f8-e211f2225c92')\"\n",
              "              title=\"Convert this dataframe to an interactive table.\"\n",
              "              style=\"display:none;\">\n",
              "        \n",
              "  <svg xmlns=\"http://www.w3.org/2000/svg\" height=\"24px\"viewBox=\"0 0 24 24\"\n",
              "       width=\"24px\">\n",
              "    <path d=\"M0 0h24v24H0V0z\" fill=\"none\"/>\n",
              "    <path d=\"M18.56 5.44l.94 2.06.94-2.06 2.06-.94-2.06-.94-.94-2.06-.94 2.06-2.06.94zm-11 1L8.5 8.5l.94-2.06 2.06-.94-2.06-.94L8.5 2.5l-.94 2.06-2.06.94zm10 10l.94 2.06.94-2.06 2.06-.94-2.06-.94-.94-2.06-.94 2.06-2.06.94z\"/><path d=\"M17.41 7.96l-1.37-1.37c-.4-.4-.92-.59-1.43-.59-.52 0-1.04.2-1.43.59L10.3 9.45l-7.72 7.72c-.78.78-.78 2.05 0 2.83L4 21.41c.39.39.9.59 1.41.59.51 0 1.02-.2 1.41-.59l7.78-7.78 2.81-2.81c.8-.78.8-2.07 0-2.86zM5.41 20L4 18.59l7.72-7.72 1.47 1.35L5.41 20z\"/>\n",
              "  </svg>\n",
              "      </button>\n",
              "      \n",
              "  <style>\n",
              "    .colab-df-container {\n",
              "      display:flex;\n",
              "      flex-wrap:wrap;\n",
              "      gap: 12px;\n",
              "    }\n",
              "\n",
              "    .colab-df-convert {\n",
              "      background-color: #E8F0FE;\n",
              "      border: none;\n",
              "      border-radius: 50%;\n",
              "      cursor: pointer;\n",
              "      display: none;\n",
              "      fill: #1967D2;\n",
              "      height: 32px;\n",
              "      padding: 0 0 0 0;\n",
              "      width: 32px;\n",
              "    }\n",
              "\n",
              "    .colab-df-convert:hover {\n",
              "      background-color: #E2EBFA;\n",
              "      box-shadow: 0px 1px 2px rgba(60, 64, 67, 0.3), 0px 1px 3px 1px rgba(60, 64, 67, 0.15);\n",
              "      fill: #174EA6;\n",
              "    }\n",
              "\n",
              "    [theme=dark] .colab-df-convert {\n",
              "      background-color: #3B4455;\n",
              "      fill: #D2E3FC;\n",
              "    }\n",
              "\n",
              "    [theme=dark] .colab-df-convert:hover {\n",
              "      background-color: #434B5C;\n",
              "      box-shadow: 0px 1px 3px 1px rgba(0, 0, 0, 0.15);\n",
              "      filter: drop-shadow(0px 1px 2px rgba(0, 0, 0, 0.3));\n",
              "      fill: #FFFFFF;\n",
              "    }\n",
              "  </style>\n",
              "\n",
              "      <script>\n",
              "        const buttonEl =\n",
              "          document.querySelector('#df-fb464aeb-dd7d-49da-93f8-e211f2225c92 button.colab-df-convert');\n",
              "        buttonEl.style.display =\n",
              "          google.colab.kernel.accessAllowed ? 'block' : 'none';\n",
              "\n",
              "        async function convertToInteractive(key) {\n",
              "          const element = document.querySelector('#df-fb464aeb-dd7d-49da-93f8-e211f2225c92');\n",
              "          const dataTable =\n",
              "            await google.colab.kernel.invokeFunction('convertToInteractive',\n",
              "                                                     [key], {});\n",
              "          if (!dataTable) return;\n",
              "\n",
              "          const docLinkHtml = 'Like what you see? Visit the ' +\n",
              "            '<a target=\"_blank\" href=https://colab.research.google.com/notebooks/data_table.ipynb>data table notebook</a>'\n",
              "            + ' to learn more about interactive tables.';\n",
              "          element.innerHTML = '';\n",
              "          dataTable['output_type'] = 'display_data';\n",
              "          await google.colab.output.renderOutput(dataTable, element);\n",
              "          const docLink = document.createElement('div');\n",
              "          docLink.innerHTML = docLinkHtml;\n",
              "          element.appendChild(docLink);\n",
              "        }\n",
              "      </script>\n",
              "    </div>\n",
              "  </div>\n",
              "  "
            ]
          },
          "metadata": {},
          "execution_count": 13
        }
      ]
    },
    {
      "cell_type": "markdown",
      "source": [
        "из этой записи необходимо выделить год и месяц - добавим их в новые столбцы"
      ],
      "metadata": {
        "id": "j-zeVENeoRdw"
      }
    },
    {
      "cell_type": "code",
      "source": [
        "netflix_date['year'] = netflix_date['date_added'].apply(lambda x: x.split(', ')[-1])\n",
        "netflix_date['month'] = netflix_date['date_added'].apply(lambda x: x.lstrip().split(' ')[0])\n",
        "netflix_date.head()"
      ],
      "metadata": {
        "colab": {
          "base_uri": "https://localhost:8080/",
          "height": 206
        },
        "id": "JNAn5R9AA2al",
        "outputId": "8fd79c36-6eb3-4b7a-b0f7-12cb3437bd98"
      },
      "execution_count": 14,
      "outputs": [
        {
          "output_type": "execute_result",
          "data": {
            "text/plain": [
              "           date_added  year      month\n",
              "1  September 24, 2021  2021  September\n",
              "2  September 24, 2021  2021  September\n",
              "3  September 24, 2021  2021  September\n",
              "4  September 24, 2021  2021  September\n",
              "5  September 24, 2021  2021  September"
            ],
            "text/html": [
              "\n",
              "  <div id=\"df-f82b87cd-47ef-46f4-bf8b-47b8b6d9817f\">\n",
              "    <div class=\"colab-df-container\">\n",
              "      <div>\n",
              "<style scoped>\n",
              "    .dataframe tbody tr th:only-of-type {\n",
              "        vertical-align: middle;\n",
              "    }\n",
              "\n",
              "    .dataframe tbody tr th {\n",
              "        vertical-align: top;\n",
              "    }\n",
              "\n",
              "    .dataframe thead th {\n",
              "        text-align: right;\n",
              "    }\n",
              "</style>\n",
              "<table border=\"1\" class=\"dataframe\">\n",
              "  <thead>\n",
              "    <tr style=\"text-align: right;\">\n",
              "      <th></th>\n",
              "      <th>date_added</th>\n",
              "      <th>year</th>\n",
              "      <th>month</th>\n",
              "    </tr>\n",
              "  </thead>\n",
              "  <tbody>\n",
              "    <tr>\n",
              "      <th>1</th>\n",
              "      <td>September 24, 2021</td>\n",
              "      <td>2021</td>\n",
              "      <td>September</td>\n",
              "    </tr>\n",
              "    <tr>\n",
              "      <th>2</th>\n",
              "      <td>September 24, 2021</td>\n",
              "      <td>2021</td>\n",
              "      <td>September</td>\n",
              "    </tr>\n",
              "    <tr>\n",
              "      <th>3</th>\n",
              "      <td>September 24, 2021</td>\n",
              "      <td>2021</td>\n",
              "      <td>September</td>\n",
              "    </tr>\n",
              "    <tr>\n",
              "      <th>4</th>\n",
              "      <td>September 24, 2021</td>\n",
              "      <td>2021</td>\n",
              "      <td>September</td>\n",
              "    </tr>\n",
              "    <tr>\n",
              "      <th>5</th>\n",
              "      <td>September 24, 2021</td>\n",
              "      <td>2021</td>\n",
              "      <td>September</td>\n",
              "    </tr>\n",
              "  </tbody>\n",
              "</table>\n",
              "</div>\n",
              "      <button class=\"colab-df-convert\" onclick=\"convertToInteractive('df-f82b87cd-47ef-46f4-bf8b-47b8b6d9817f')\"\n",
              "              title=\"Convert this dataframe to an interactive table.\"\n",
              "              style=\"display:none;\">\n",
              "        \n",
              "  <svg xmlns=\"http://www.w3.org/2000/svg\" height=\"24px\"viewBox=\"0 0 24 24\"\n",
              "       width=\"24px\">\n",
              "    <path d=\"M0 0h24v24H0V0z\" fill=\"none\"/>\n",
              "    <path d=\"M18.56 5.44l.94 2.06.94-2.06 2.06-.94-2.06-.94-.94-2.06-.94 2.06-2.06.94zm-11 1L8.5 8.5l.94-2.06 2.06-.94-2.06-.94L8.5 2.5l-.94 2.06-2.06.94zm10 10l.94 2.06.94-2.06 2.06-.94-2.06-.94-.94-2.06-.94 2.06-2.06.94z\"/><path d=\"M17.41 7.96l-1.37-1.37c-.4-.4-.92-.59-1.43-.59-.52 0-1.04.2-1.43.59L10.3 9.45l-7.72 7.72c-.78.78-.78 2.05 0 2.83L4 21.41c.39.39.9.59 1.41.59.51 0 1.02-.2 1.41-.59l7.78-7.78 2.81-2.81c.8-.78.8-2.07 0-2.86zM5.41 20L4 18.59l7.72-7.72 1.47 1.35L5.41 20z\"/>\n",
              "  </svg>\n",
              "      </button>\n",
              "      \n",
              "  <style>\n",
              "    .colab-df-container {\n",
              "      display:flex;\n",
              "      flex-wrap:wrap;\n",
              "      gap: 12px;\n",
              "    }\n",
              "\n",
              "    .colab-df-convert {\n",
              "      background-color: #E8F0FE;\n",
              "      border: none;\n",
              "      border-radius: 50%;\n",
              "      cursor: pointer;\n",
              "      display: none;\n",
              "      fill: #1967D2;\n",
              "      height: 32px;\n",
              "      padding: 0 0 0 0;\n",
              "      width: 32px;\n",
              "    }\n",
              "\n",
              "    .colab-df-convert:hover {\n",
              "      background-color: #E2EBFA;\n",
              "      box-shadow: 0px 1px 2px rgba(60, 64, 67, 0.3), 0px 1px 3px 1px rgba(60, 64, 67, 0.15);\n",
              "      fill: #174EA6;\n",
              "    }\n",
              "\n",
              "    [theme=dark] .colab-df-convert {\n",
              "      background-color: #3B4455;\n",
              "      fill: #D2E3FC;\n",
              "    }\n",
              "\n",
              "    [theme=dark] .colab-df-convert:hover {\n",
              "      background-color: #434B5C;\n",
              "      box-shadow: 0px 1px 3px 1px rgba(0, 0, 0, 0.15);\n",
              "      filter: drop-shadow(0px 1px 2px rgba(0, 0, 0, 0.3));\n",
              "      fill: #FFFFFF;\n",
              "    }\n",
              "  </style>\n",
              "\n",
              "      <script>\n",
              "        const buttonEl =\n",
              "          document.querySelector('#df-f82b87cd-47ef-46f4-bf8b-47b8b6d9817f button.colab-df-convert');\n",
              "        buttonEl.style.display =\n",
              "          google.colab.kernel.accessAllowed ? 'block' : 'none';\n",
              "\n",
              "        async function convertToInteractive(key) {\n",
              "          const element = document.querySelector('#df-f82b87cd-47ef-46f4-bf8b-47b8b6d9817f');\n",
              "          const dataTable =\n",
              "            await google.colab.kernel.invokeFunction('convertToInteractive',\n",
              "                                                     [key], {});\n",
              "          if (!dataTable) return;\n",
              "\n",
              "          const docLinkHtml = 'Like what you see? Visit the ' +\n",
              "            '<a target=\"_blank\" href=https://colab.research.google.com/notebooks/data_table.ipynb>data table notebook</a>'\n",
              "            + ' to learn more about interactive tables.';\n",
              "          element.innerHTML = '';\n",
              "          dataTable['output_type'] = 'display_data';\n",
              "          await google.colab.output.renderOutput(dataTable, element);\n",
              "          const docLink = document.createElement('div');\n",
              "          docLink.innerHTML = docLinkHtml;\n",
              "          element.appendChild(docLink);\n",
              "        }\n",
              "      </script>\n",
              "    </div>\n",
              "  </div>\n",
              "  "
            ]
          },
          "metadata": {},
          "execution_count": 14
        }
      ]
    },
    {
      "cell_type": "code",
      "source": [
        "# посмотрим на самые ранние добавления фильмов\n",
        "netflix_date.sort_values(by=['year','month']).head()"
      ],
      "metadata": {
        "colab": {
          "base_uri": "https://localhost:8080/",
          "height": 206
        },
        "id": "Wfk3O8TgCq1s",
        "outputId": "bddc2108-31d2-448c-8161-190809b97f44"
      },
      "execution_count": 15,
      "outputs": [
        {
          "output_type": "execute_result",
          "data": {
            "text/plain": [
              "            date_added  year     month\n",
              "6611  February 4, 2008  2008  February\n",
              "5940    August 2, 2013  2013    August\n",
              "7112    March 31, 2013  2013     March\n",
              "6885   October 8, 2013  2013   October\n",
              "7908  October 14, 2013  2013   October"
            ],
            "text/html": [
              "\n",
              "  <div id=\"df-c8b0eac4-1a86-4355-b585-bf0e69e6e457\">\n",
              "    <div class=\"colab-df-container\">\n",
              "      <div>\n",
              "<style scoped>\n",
              "    .dataframe tbody tr th:only-of-type {\n",
              "        vertical-align: middle;\n",
              "    }\n",
              "\n",
              "    .dataframe tbody tr th {\n",
              "        vertical-align: top;\n",
              "    }\n",
              "\n",
              "    .dataframe thead th {\n",
              "        text-align: right;\n",
              "    }\n",
              "</style>\n",
              "<table border=\"1\" class=\"dataframe\">\n",
              "  <thead>\n",
              "    <tr style=\"text-align: right;\">\n",
              "      <th></th>\n",
              "      <th>date_added</th>\n",
              "      <th>year</th>\n",
              "      <th>month</th>\n",
              "    </tr>\n",
              "  </thead>\n",
              "  <tbody>\n",
              "    <tr>\n",
              "      <th>6611</th>\n",
              "      <td>February 4, 2008</td>\n",
              "      <td>2008</td>\n",
              "      <td>February</td>\n",
              "    </tr>\n",
              "    <tr>\n",
              "      <th>5940</th>\n",
              "      <td>August 2, 2013</td>\n",
              "      <td>2013</td>\n",
              "      <td>August</td>\n",
              "    </tr>\n",
              "    <tr>\n",
              "      <th>7112</th>\n",
              "      <td>March 31, 2013</td>\n",
              "      <td>2013</td>\n",
              "      <td>March</td>\n",
              "    </tr>\n",
              "    <tr>\n",
              "      <th>6885</th>\n",
              "      <td>October 8, 2013</td>\n",
              "      <td>2013</td>\n",
              "      <td>October</td>\n",
              "    </tr>\n",
              "    <tr>\n",
              "      <th>7908</th>\n",
              "      <td>October 14, 2013</td>\n",
              "      <td>2013</td>\n",
              "      <td>October</td>\n",
              "    </tr>\n",
              "  </tbody>\n",
              "</table>\n",
              "</div>\n",
              "      <button class=\"colab-df-convert\" onclick=\"convertToInteractive('df-c8b0eac4-1a86-4355-b585-bf0e69e6e457')\"\n",
              "              title=\"Convert this dataframe to an interactive table.\"\n",
              "              style=\"display:none;\">\n",
              "        \n",
              "  <svg xmlns=\"http://www.w3.org/2000/svg\" height=\"24px\"viewBox=\"0 0 24 24\"\n",
              "       width=\"24px\">\n",
              "    <path d=\"M0 0h24v24H0V0z\" fill=\"none\"/>\n",
              "    <path d=\"M18.56 5.44l.94 2.06.94-2.06 2.06-.94-2.06-.94-.94-2.06-.94 2.06-2.06.94zm-11 1L8.5 8.5l.94-2.06 2.06-.94-2.06-.94L8.5 2.5l-.94 2.06-2.06.94zm10 10l.94 2.06.94-2.06 2.06-.94-2.06-.94-.94-2.06-.94 2.06-2.06.94z\"/><path d=\"M17.41 7.96l-1.37-1.37c-.4-.4-.92-.59-1.43-.59-.52 0-1.04.2-1.43.59L10.3 9.45l-7.72 7.72c-.78.78-.78 2.05 0 2.83L4 21.41c.39.39.9.59 1.41.59.51 0 1.02-.2 1.41-.59l7.78-7.78 2.81-2.81c.8-.78.8-2.07 0-2.86zM5.41 20L4 18.59l7.72-7.72 1.47 1.35L5.41 20z\"/>\n",
              "  </svg>\n",
              "      </button>\n",
              "      \n",
              "  <style>\n",
              "    .colab-df-container {\n",
              "      display:flex;\n",
              "      flex-wrap:wrap;\n",
              "      gap: 12px;\n",
              "    }\n",
              "\n",
              "    .colab-df-convert {\n",
              "      background-color: #E8F0FE;\n",
              "      border: none;\n",
              "      border-radius: 50%;\n",
              "      cursor: pointer;\n",
              "      display: none;\n",
              "      fill: #1967D2;\n",
              "      height: 32px;\n",
              "      padding: 0 0 0 0;\n",
              "      width: 32px;\n",
              "    }\n",
              "\n",
              "    .colab-df-convert:hover {\n",
              "      background-color: #E2EBFA;\n",
              "      box-shadow: 0px 1px 2px rgba(60, 64, 67, 0.3), 0px 1px 3px 1px rgba(60, 64, 67, 0.15);\n",
              "      fill: #174EA6;\n",
              "    }\n",
              "\n",
              "    [theme=dark] .colab-df-convert {\n",
              "      background-color: #3B4455;\n",
              "      fill: #D2E3FC;\n",
              "    }\n",
              "\n",
              "    [theme=dark] .colab-df-convert:hover {\n",
              "      background-color: #434B5C;\n",
              "      box-shadow: 0px 1px 3px 1px rgba(0, 0, 0, 0.15);\n",
              "      filter: drop-shadow(0px 1px 2px rgba(0, 0, 0, 0.3));\n",
              "      fill: #FFFFFF;\n",
              "    }\n",
              "  </style>\n",
              "\n",
              "      <script>\n",
              "        const buttonEl =\n",
              "          document.querySelector('#df-c8b0eac4-1a86-4355-b585-bf0e69e6e457 button.colab-df-convert');\n",
              "        buttonEl.style.display =\n",
              "          google.colab.kernel.accessAllowed ? 'block' : 'none';\n",
              "\n",
              "        async function convertToInteractive(key) {\n",
              "          const element = document.querySelector('#df-c8b0eac4-1a86-4355-b585-bf0e69e6e457');\n",
              "          const dataTable =\n",
              "            await google.colab.kernel.invokeFunction('convertToInteractive',\n",
              "                                                     [key], {});\n",
              "          if (!dataTable) return;\n",
              "\n",
              "          const docLinkHtml = 'Like what you see? Visit the ' +\n",
              "            '<a target=\"_blank\" href=https://colab.research.google.com/notebooks/data_table.ipynb>data table notebook</a>'\n",
              "            + ' to learn more about interactive tables.';\n",
              "          element.innerHTML = '';\n",
              "          dataTable['output_type'] = 'display_data';\n",
              "          await google.colab.output.renderOutput(dataTable, element);\n",
              "          const docLink = document.createElement('div');\n",
              "          docLink.innerHTML = docLinkHtml;\n",
              "          element.appendChild(docLink);\n",
              "        }\n",
              "      </script>\n",
              "    </div>\n",
              "  </div>\n",
              "  "
            ]
          },
          "metadata": {},
          "execution_count": 15
        }
      ]
    },
    {
      "cell_type": "markdown",
      "source": [
        "Интересно - между первой и второй публикацией фильмов 5 лет - видимо в этот период пуликовали только сериалы."
      ],
      "metadata": {
        "id": "-GUmfNgMzUeW"
      }
    },
    {
      "cell_type": "code",
      "source": [
        "# для сортировки по месяцу сделаем споком месяцев\n",
        "month_order = ['January', 'February', 'March', 'April', 'May', 'June', 'July', 'August', 'September', 'October', 'November', 'December'] #[::-1]\n",
        "df = netflix_date.groupby('year')['month'].value_counts().unstack().fillna(0)[month_order].T\n",
        "df"
      ],
      "metadata": {
        "colab": {
          "base_uri": "https://localhost:8080/",
          "height": 457
        },
        "id": "2-Y9G63iRwdh",
        "outputId": "3e4e9326-3fb0-4e4d-9de5-2389a759d505"
      },
      "execution_count": 16,
      "outputs": [
        {
          "output_type": "execute_result",
          "data": {
            "text/plain": [
              "year       2008  2013  2014  2015  2016  2017  2018  2019  2020  2021\n",
              "month                                                                \n",
              "January     0.0   0.0   0.0   0.0  28.0  14.0  24.0  37.0  53.0  36.0\n",
              "February    1.0   0.0   1.0   1.0   6.0  17.0  24.0  45.0  42.0  44.0\n",
              "March       0.0   1.0   0.0   2.0   3.0  38.0  35.0  53.0  44.0  37.0\n",
              "April       0.0   0.0   1.0   4.0   8.0  27.0  28.0  43.0  50.0  53.0\n",
              "May         0.0   0.0   0.0   1.0   4.0  23.0  27.0  48.0  52.0  38.0\n",
              "June        0.0   0.0   0.0   2.0   7.0  29.0  28.0  46.0  41.0  83.0\n",
              "July        0.0   0.0   0.0   2.0   9.0  34.0  27.0  59.0  43.0  88.0\n",
              "August      0.0   1.0   0.0   0.0  11.0  38.0  34.0  44.0  47.0  61.0\n",
              "September   0.0   1.0   0.0   1.0  19.0  32.0  43.0  37.0  53.0  65.0\n",
              "October     0.0   2.0   0.0   4.0  19.0  29.0  45.0  65.0  51.0   0.0\n",
              "November    0.0   0.0   2.0   2.0  18.0  30.0  36.0  68.0  51.0   0.0\n",
              "December    0.0   0.0   1.0   7.0  44.0  38.0  61.0  47.0  68.0   0.0"
            ],
            "text/html": [
              "\n",
              "  <div id=\"df-d39faf61-66aa-4017-b4f6-fb4e45e81882\">\n",
              "    <div class=\"colab-df-container\">\n",
              "      <div>\n",
              "<style scoped>\n",
              "    .dataframe tbody tr th:only-of-type {\n",
              "        vertical-align: middle;\n",
              "    }\n",
              "\n",
              "    .dataframe tbody tr th {\n",
              "        vertical-align: top;\n",
              "    }\n",
              "\n",
              "    .dataframe thead th {\n",
              "        text-align: right;\n",
              "    }\n",
              "</style>\n",
              "<table border=\"1\" class=\"dataframe\">\n",
              "  <thead>\n",
              "    <tr style=\"text-align: right;\">\n",
              "      <th>year</th>\n",
              "      <th>2008</th>\n",
              "      <th>2013</th>\n",
              "      <th>2014</th>\n",
              "      <th>2015</th>\n",
              "      <th>2016</th>\n",
              "      <th>2017</th>\n",
              "      <th>2018</th>\n",
              "      <th>2019</th>\n",
              "      <th>2020</th>\n",
              "      <th>2021</th>\n",
              "    </tr>\n",
              "    <tr>\n",
              "      <th>month</th>\n",
              "      <th></th>\n",
              "      <th></th>\n",
              "      <th></th>\n",
              "      <th></th>\n",
              "      <th></th>\n",
              "      <th></th>\n",
              "      <th></th>\n",
              "      <th></th>\n",
              "      <th></th>\n",
              "      <th></th>\n",
              "    </tr>\n",
              "  </thead>\n",
              "  <tbody>\n",
              "    <tr>\n",
              "      <th>January</th>\n",
              "      <td>0.0</td>\n",
              "      <td>0.0</td>\n",
              "      <td>0.0</td>\n",
              "      <td>0.0</td>\n",
              "      <td>28.0</td>\n",
              "      <td>14.0</td>\n",
              "      <td>24.0</td>\n",
              "      <td>37.0</td>\n",
              "      <td>53.0</td>\n",
              "      <td>36.0</td>\n",
              "    </tr>\n",
              "    <tr>\n",
              "      <th>February</th>\n",
              "      <td>1.0</td>\n",
              "      <td>0.0</td>\n",
              "      <td>1.0</td>\n",
              "      <td>1.0</td>\n",
              "      <td>6.0</td>\n",
              "      <td>17.0</td>\n",
              "      <td>24.0</td>\n",
              "      <td>45.0</td>\n",
              "      <td>42.0</td>\n",
              "      <td>44.0</td>\n",
              "    </tr>\n",
              "    <tr>\n",
              "      <th>March</th>\n",
              "      <td>0.0</td>\n",
              "      <td>1.0</td>\n",
              "      <td>0.0</td>\n",
              "      <td>2.0</td>\n",
              "      <td>3.0</td>\n",
              "      <td>38.0</td>\n",
              "      <td>35.0</td>\n",
              "      <td>53.0</td>\n",
              "      <td>44.0</td>\n",
              "      <td>37.0</td>\n",
              "    </tr>\n",
              "    <tr>\n",
              "      <th>April</th>\n",
              "      <td>0.0</td>\n",
              "      <td>0.0</td>\n",
              "      <td>1.0</td>\n",
              "      <td>4.0</td>\n",
              "      <td>8.0</td>\n",
              "      <td>27.0</td>\n",
              "      <td>28.0</td>\n",
              "      <td>43.0</td>\n",
              "      <td>50.0</td>\n",
              "      <td>53.0</td>\n",
              "    </tr>\n",
              "    <tr>\n",
              "      <th>May</th>\n",
              "      <td>0.0</td>\n",
              "      <td>0.0</td>\n",
              "      <td>0.0</td>\n",
              "      <td>1.0</td>\n",
              "      <td>4.0</td>\n",
              "      <td>23.0</td>\n",
              "      <td>27.0</td>\n",
              "      <td>48.0</td>\n",
              "      <td>52.0</td>\n",
              "      <td>38.0</td>\n",
              "    </tr>\n",
              "    <tr>\n",
              "      <th>June</th>\n",
              "      <td>0.0</td>\n",
              "      <td>0.0</td>\n",
              "      <td>0.0</td>\n",
              "      <td>2.0</td>\n",
              "      <td>7.0</td>\n",
              "      <td>29.0</td>\n",
              "      <td>28.0</td>\n",
              "      <td>46.0</td>\n",
              "      <td>41.0</td>\n",
              "      <td>83.0</td>\n",
              "    </tr>\n",
              "    <tr>\n",
              "      <th>July</th>\n",
              "      <td>0.0</td>\n",
              "      <td>0.0</td>\n",
              "      <td>0.0</td>\n",
              "      <td>2.0</td>\n",
              "      <td>9.0</td>\n",
              "      <td>34.0</td>\n",
              "      <td>27.0</td>\n",
              "      <td>59.0</td>\n",
              "      <td>43.0</td>\n",
              "      <td>88.0</td>\n",
              "    </tr>\n",
              "    <tr>\n",
              "      <th>August</th>\n",
              "      <td>0.0</td>\n",
              "      <td>1.0</td>\n",
              "      <td>0.0</td>\n",
              "      <td>0.0</td>\n",
              "      <td>11.0</td>\n",
              "      <td>38.0</td>\n",
              "      <td>34.0</td>\n",
              "      <td>44.0</td>\n",
              "      <td>47.0</td>\n",
              "      <td>61.0</td>\n",
              "    </tr>\n",
              "    <tr>\n",
              "      <th>September</th>\n",
              "      <td>0.0</td>\n",
              "      <td>1.0</td>\n",
              "      <td>0.0</td>\n",
              "      <td>1.0</td>\n",
              "      <td>19.0</td>\n",
              "      <td>32.0</td>\n",
              "      <td>43.0</td>\n",
              "      <td>37.0</td>\n",
              "      <td>53.0</td>\n",
              "      <td>65.0</td>\n",
              "    </tr>\n",
              "    <tr>\n",
              "      <th>October</th>\n",
              "      <td>0.0</td>\n",
              "      <td>2.0</td>\n",
              "      <td>0.0</td>\n",
              "      <td>4.0</td>\n",
              "      <td>19.0</td>\n",
              "      <td>29.0</td>\n",
              "      <td>45.0</td>\n",
              "      <td>65.0</td>\n",
              "      <td>51.0</td>\n",
              "      <td>0.0</td>\n",
              "    </tr>\n",
              "    <tr>\n",
              "      <th>November</th>\n",
              "      <td>0.0</td>\n",
              "      <td>0.0</td>\n",
              "      <td>2.0</td>\n",
              "      <td>2.0</td>\n",
              "      <td>18.0</td>\n",
              "      <td>30.0</td>\n",
              "      <td>36.0</td>\n",
              "      <td>68.0</td>\n",
              "      <td>51.0</td>\n",
              "      <td>0.0</td>\n",
              "    </tr>\n",
              "    <tr>\n",
              "      <th>December</th>\n",
              "      <td>0.0</td>\n",
              "      <td>0.0</td>\n",
              "      <td>1.0</td>\n",
              "      <td>7.0</td>\n",
              "      <td>44.0</td>\n",
              "      <td>38.0</td>\n",
              "      <td>61.0</td>\n",
              "      <td>47.0</td>\n",
              "      <td>68.0</td>\n",
              "      <td>0.0</td>\n",
              "    </tr>\n",
              "  </tbody>\n",
              "</table>\n",
              "</div>\n",
              "      <button class=\"colab-df-convert\" onclick=\"convertToInteractive('df-d39faf61-66aa-4017-b4f6-fb4e45e81882')\"\n",
              "              title=\"Convert this dataframe to an interactive table.\"\n",
              "              style=\"display:none;\">\n",
              "        \n",
              "  <svg xmlns=\"http://www.w3.org/2000/svg\" height=\"24px\"viewBox=\"0 0 24 24\"\n",
              "       width=\"24px\">\n",
              "    <path d=\"M0 0h24v24H0V0z\" fill=\"none\"/>\n",
              "    <path d=\"M18.56 5.44l.94 2.06.94-2.06 2.06-.94-2.06-.94-.94-2.06-.94 2.06-2.06.94zm-11 1L8.5 8.5l.94-2.06 2.06-.94-2.06-.94L8.5 2.5l-.94 2.06-2.06.94zm10 10l.94 2.06.94-2.06 2.06-.94-2.06-.94-.94-2.06-.94 2.06-2.06.94z\"/><path d=\"M17.41 7.96l-1.37-1.37c-.4-.4-.92-.59-1.43-.59-.52 0-1.04.2-1.43.59L10.3 9.45l-7.72 7.72c-.78.78-.78 2.05 0 2.83L4 21.41c.39.39.9.59 1.41.59.51 0 1.02-.2 1.41-.59l7.78-7.78 2.81-2.81c.8-.78.8-2.07 0-2.86zM5.41 20L4 18.59l7.72-7.72 1.47 1.35L5.41 20z\"/>\n",
              "  </svg>\n",
              "      </button>\n",
              "      \n",
              "  <style>\n",
              "    .colab-df-container {\n",
              "      display:flex;\n",
              "      flex-wrap:wrap;\n",
              "      gap: 12px;\n",
              "    }\n",
              "\n",
              "    .colab-df-convert {\n",
              "      background-color: #E8F0FE;\n",
              "      border: none;\n",
              "      border-radius: 50%;\n",
              "      cursor: pointer;\n",
              "      display: none;\n",
              "      fill: #1967D2;\n",
              "      height: 32px;\n",
              "      padding: 0 0 0 0;\n",
              "      width: 32px;\n",
              "    }\n",
              "\n",
              "    .colab-df-convert:hover {\n",
              "      background-color: #E2EBFA;\n",
              "      box-shadow: 0px 1px 2px rgba(60, 64, 67, 0.3), 0px 1px 3px 1px rgba(60, 64, 67, 0.15);\n",
              "      fill: #174EA6;\n",
              "    }\n",
              "\n",
              "    [theme=dark] .colab-df-convert {\n",
              "      background-color: #3B4455;\n",
              "      fill: #D2E3FC;\n",
              "    }\n",
              "\n",
              "    [theme=dark] .colab-df-convert:hover {\n",
              "      background-color: #434B5C;\n",
              "      box-shadow: 0px 1px 3px 1px rgba(0, 0, 0, 0.15);\n",
              "      filter: drop-shadow(0px 1px 2px rgba(0, 0, 0, 0.3));\n",
              "      fill: #FFFFFF;\n",
              "    }\n",
              "  </style>\n",
              "\n",
              "      <script>\n",
              "        const buttonEl =\n",
              "          document.querySelector('#df-d39faf61-66aa-4017-b4f6-fb4e45e81882 button.colab-df-convert');\n",
              "        buttonEl.style.display =\n",
              "          google.colab.kernel.accessAllowed ? 'block' : 'none';\n",
              "\n",
              "        async function convertToInteractive(key) {\n",
              "          const element = document.querySelector('#df-d39faf61-66aa-4017-b4f6-fb4e45e81882');\n",
              "          const dataTable =\n",
              "            await google.colab.kernel.invokeFunction('convertToInteractive',\n",
              "                                                     [key], {});\n",
              "          if (!dataTable) return;\n",
              "\n",
              "          const docLinkHtml = 'Like what you see? Visit the ' +\n",
              "            '<a target=\"_blank\" href=https://colab.research.google.com/notebooks/data_table.ipynb>data table notebook</a>'\n",
              "            + ' to learn more about interactive tables.';\n",
              "          element.innerHTML = '';\n",
              "          dataTable['output_type'] = 'display_data';\n",
              "          await google.colab.output.renderOutput(dataTable, element);\n",
              "          const docLink = document.createElement('div');\n",
              "          docLink.innerHTML = docLinkHtml;\n",
              "          element.appendChild(docLink);\n",
              "        }\n",
              "      </script>\n",
              "    </div>\n",
              "  </div>\n",
              "  "
            ]
          },
          "metadata": {},
          "execution_count": 16
        }
      ]
    },
    {
      "cell_type": "code",
      "source": [
        "fig = px.imshow(df,width=500, height=500)\n",
        "fig.show('png')"
      ],
      "metadata": {
        "id": "_kqwvs46Vphc",
        "colab": {
          "base_uri": "https://localhost:8080/",
          "height": 517
        },
        "outputId": "07a07f01-c1c2-487f-a32d-ce2f82681db1"
      },
      "execution_count": 17,
      "outputs": [
        {
          "output_type": "display_data",
          "data": {
            "image/png": "[encoded data removed]"
          },
          "metadata": {}
        }
      ]
    },
    {
      "cell_type": "markdown",
      "source": [
        "С помощью plotly  очень просто визуализировать. Всё параметры применилиь автоматически - видим по самой яркой точке - июль 2021го самый \"жаркий\" месяц по публикациям фильмов.<br>\n",
        "Но нам наиболее интересен наоборот самый холодный месяц - например январь несколько лет подряд в этот месяц наименьшее количество публикаций, но в связи с праздниками и длинными ввыходнымидолжно быть наибольшее количество просмотров. Но в США с 3го января уже начинают работать. Будем целиться на Российский сегмент зрителей."
      ],
      "metadata": {
        "id": "xKdm5Bbm1rp9"
      }
    },
    {
      "cell_type": "markdown",
      "source": [
        "## Рейтинги фильмов\n"
      ],
      "metadata": {
        "id": "AG6RuKck5VNx"
      }
    },
    {
      "cell_type": "markdown",
      "source": [
        "исследуем взрасной рейтинг фильмов"
      ],
      "metadata": {
        "id": "WXL0MRN45bTJ"
      }
    },
    {
      "cell_type": "code",
      "source": [
        "fig = go.Figure([ \n",
        "      go.Bar(y=netflix_movie['rating'].value_counts(), \n",
        "             x=netflix_movie['rating'].value_counts().index[:10], \n",
        "             text=netflix_movie['rating'].value_counts().values\n",
        "             ) \n",
        "      ])\n",
        "\n",
        "fig.update_layout(#legend_orientation=\"h\",\n",
        "                  #legend=dict(x=.5, xanchor=\"center\"),\n",
        "                  title=\"Количество фильмов по рейтингам\",\n",
        "                  xaxis_title=\"Рейтинги\",\n",
        "                  yaxis_title=\"Количество фильмов\",\n",
        "                  #margin=dict(l=0, r=0, t=30, b=0),\n",
        "                  width=600, height=400)\n",
        "\n",
        "fig.update_traces(texttemplate='%{text:.2s}', \n",
        "                  textposition='outside')\n",
        "fig.show('png')"
      ],
      "metadata": {
        "colab": {
          "base_uri": "https://localhost:8080/",
          "height": 417
        },
        "id": "gMholXrB5UoJ",
        "outputId": "4514e657-50f2-4ef2-e6cf-e8a92222c734"
      },
      "execution_count": 18,
      "outputs": [
        {
          "output_type": "display_data",
          "data": {
            "image/png": "[encoded data removed]"
          },
          "metadata": {}
        }
      ]
    },
    {
      "cell_type": "markdown",
      "source": [
        "1. ТV-МА - Самая большая группа. Такой рейтинг дается фильмам только для взрослой аудитории.\n",
        "2. ТV-14 - Вторая группа по величине. Контент фильма с таким рейтингом не подходит для детей младше 14 лет.\n",
        "3. R - Фильмы не подходят для просмотра детям до 17 лет."
      ],
      "metadata": {
        "id": "LHP_8rRl7TcS"
      }
    },
    {
      "cell_type": "markdown",
      "source": [
        "## Анализ года выпуска фильма"
      ],
      "metadata": {
        "id": "AMs6r4E0_D-q"
      }
    },
    {
      "cell_type": "code",
      "source": [
        "df_release = netflix_movie['release_year'].value_counts()[:15]"
      ],
      "metadata": {
        "id": "4w5W9F1A7YAw"
      },
      "execution_count": 19,
      "outputs": []
    },
    {
      "cell_type": "code",
      "source": [
        "fig = px.bar(y=df_release.values, \n",
        "             x=df_release.index, \n",
        "             text=df_release.values)\n",
        "fig.update_layout(title=\"Количество фильмов в год\",\n",
        "                  xaxis_title=\"Год\",\n",
        "                  yaxis_title=\"Количество фильмов\",\n",
        "                  width=800, height=400)\n",
        "fig.show('png')"
      ],
      "metadata": {
        "colab": {
          "base_uri": "https://localhost:8080/",
          "height": 417
        },
        "id": "HaCJZ8_c6uck",
        "outputId": "7832d9be-0b2e-478f-95d2-f73adab34715"
      },
      "execution_count": 20,
      "outputs": [
        {
          "output_type": "display_data",
          "data": {
            "image/png": "[encoded data removed]"
          },
          "metadata": {}
        }
      ]
    },
    {
      "cell_type": "markdown",
      "source": [
        "2017 и 2018 самый частый год выпуска фильмов"
      ],
      "metadata": {
        "id": "vhGMIVR98sxb"
      }
    },
    {
      "cell_type": "markdown",
      "source": [
        "## Топ 10 стран по выпуску фильмов"
      ],
      "metadata": {
        "id": "ULNjNixr9HZg"
      }
    },
    {
      "cell_type": "code",
      "source": [
        "#  проверим на пропуски \n",
        "netflix_movie.isna().sum()"
      ],
      "metadata": {
        "colab": {
          "base_uri": "https://localhost:8080/"
        },
        "id": "ziFIx5ol02Lb",
        "outputId": "58e358a5-8147-4714-c05f-140fefd91329"
      },
      "execution_count": 21,
      "outputs": [
        {
          "output_type": "execute_result",
          "data": {
            "text/plain": [
              "show_id           0\n",
              "type              0\n",
              "title             0\n",
              "director        188\n",
              "cast            475\n",
              "country         440\n",
              "date_added        0\n",
              "release_year      0\n",
              "rating            2\n",
              "duration          3\n",
              "listed_in         0\n",
              "description       0\n",
              "dtype: int64"
            ]
          },
          "metadata": {},
          "execution_count": 21
        }
      ]
    },
    {
      "cell_type": "markdown",
      "source": [
        "в колонке \"страна\" - есть пропуски  - но  не будем избовляться от этих записей - заполним значением Unknow"
      ],
      "metadata": {
        "id": "OLOfC7dH9qvE"
      }
    },
    {
      "cell_type": "code",
      "source": [
        "netflix_movie['country'].fillna(\"Unknow\", inplace=True)\n",
        "netflix_movie.isna().sum()"
      ],
      "metadata": {
        "colab": {
          "base_uri": "https://localhost:8080/"
        },
        "id": "5YTTrW-V9eMU",
        "outputId": "619d73ab-118d-4929-a9bb-dc8eec718299"
      },
      "execution_count": 22,
      "outputs": [
        {
          "output_type": "execute_result",
          "data": {
            "text/plain": [
              "show_id           0\n",
              "type              0\n",
              "title             0\n",
              "director        188\n",
              "cast            475\n",
              "country           0\n",
              "date_added        0\n",
              "release_year      0\n",
              "rating            2\n",
              "duration          3\n",
              "listed_in         0\n",
              "description       0\n",
              "dtype: int64"
            ]
          },
          "metadata": {},
          "execution_count": 22
        }
      ]
    },
    {
      "cell_type": "code",
      "source": [
        "netflix_movie['country'].value_counts()"
      ],
      "metadata": {
        "colab": {
          "base_uri": "https://localhost:8080/"
        },
        "id": "XajUV8uM-HuD",
        "outputId": "a3a25005-c8a1-42c0-b8f4-f4e77f5d8134"
      },
      "execution_count": 23,
      "outputs": [
        {
          "output_type": "execute_result",
          "data": {
            "text/plain": [
              "United States                            2058\n",
              "India                                     893\n",
              "Unknow                                    440\n",
              "United Kingdom                            206\n",
              "Canada                                    122\n",
              "                                         ... \n",
              "United Kingdom, Russia, United States       1\n",
              "Paraguay, Argentina                         1\n",
              "United Kingdom, Malawi                      1\n",
              "Austria, Iraq, United States                1\n",
              "United Arab Emirates, Jordan                1\n",
              "Name: country, Length: 652, dtype: int64"
            ]
          },
          "metadata": {},
          "execution_count": 23
        }
      ]
    },
    {
      "cell_type": "markdown",
      "source": [
        "В некоторых записях есть перечень стран учавствовавших в создании фильма - "
      ],
      "metadata": {
        "id": "Uy4hpxLkeoeT"
      }
    },
    {
      "cell_type": "code",
      "source": [
        "# функция для получения количества упоминаний \n",
        "\n",
        "def get_counts(data):    # соберем все записи из колонки и передаём списком в функцию\n",
        "  lst = []\n",
        "  \n",
        "  for i in data:           # пройдемся по этому списку\n",
        "    i = list(i.split(',')) # разделим по запятым\n",
        "    for j in i:\n",
        "      lst.append(j.replace(' ',''))  # уберем пробелы если есть\n",
        "      # for k in lst:   # теперь пройдемся по разделенным записям\n",
        "      #   if k in list(l.keys()):  # и будем добавлять или увеличивать счетчик при наличии страны в словаре\n",
        "      #       l[k] += 1\n",
        "      #   else:\n",
        "      #       l[k] = 1\n",
        "  l = Counter(lst)\n",
        "  return sorted(l.items(), key=lambda item: l[item[0]], reverse=True)\n"
      ],
      "metadata": {
        "id": "bHIGfD_iQXiV"
      },
      "execution_count": 24,
      "outputs": []
    },
    {
      "cell_type": "code",
      "source": [
        "  # функция для визуализации данных\n",
        "def get_graph_counts(data, title,xlabel,ylabel):\n",
        "\n",
        "    names = [name for name, values in data]\n",
        "    values = [values for name, values in data]\n",
        "\n",
        "    fig = px.bar(x=names, \n",
        "                y=values, \n",
        "                text=values)\n",
        "    fig.update_layout(title=title,\n",
        "                      xaxis_title=xlabel,\n",
        "                      yaxis_title=ylabel,\n",
        "                      width=800, height=400)\n",
        "    fig.show('png')"
      ],
      "metadata": {
        "id": "Rk0Rodr7Sy6b"
      },
      "execution_count": 25,
      "outputs": []
    },
    {
      "cell_type": "code",
      "source": [
        "countries_fin = get_counts(list(netflix_movie['country']))[:10]\n",
        "countries_fin"
      ],
      "metadata": {
        "colab": {
          "base_uri": "https://localhost:8080/"
        },
        "id": "UII55OG2Rkft",
        "outputId": "e78c068f-ffe9-4ed3-bc20-da72292fa9d7"
      },
      "execution_count": 26,
      "outputs": [
        {
          "output_type": "execute_result",
          "data": {
            "text/plain": [
              "[('UnitedStates', 2752),\n",
              " ('India', 962),\n",
              " ('UnitedKingdom', 534),\n",
              " ('Unknow', 440),\n",
              " ('Canada', 319),\n",
              " ('France', 303),\n",
              " ('Germany', 182),\n",
              " ('Spain', 171),\n",
              " ('Japan', 119),\n",
              " ('China', 114)]"
            ]
          },
          "metadata": {},
          "execution_count": 26
        }
      ]
    },
    {
      "cell_type": "code",
      "source": [
        "get_graph_counts(countries_fin, \"Количество фильмов по странам\", \"Страна\", \"Количество фильмов\")"
      ],
      "metadata": {
        "colab": {
          "base_uri": "https://localhost:8080/",
          "height": 417
        },
        "id": "aQpTzTz6TQ2P",
        "outputId": "aee3377e-bdec-4ccf-ca5d-98b4a3953480"
      },
      "execution_count": 27,
      "outputs": [
        {
          "output_type": "display_data",
          "data": {
            "image/png": "[encoded data removed]"
          },
          "metadata": {}
        }
      ]
    },
    {
      "cell_type": "markdown",
      "source": [
        "## Анализ продолжительноси фильмов\n"
      ],
      "metadata": {
        "id": "vQS8QA2KpENi"
      }
    },
    {
      "cell_type": "code",
      "source": [
        "netflix_movie['duration'].value_counts().head()"
      ],
      "metadata": {
        "colab": {
          "base_uri": "https://localhost:8080/"
        },
        "id": "0SghJUgtdwvS",
        "outputId": "d4a4aba7-e21f-49b4-f18b-3f4c1ceecd13"
      },
      "execution_count": 28,
      "outputs": [
        {
          "output_type": "execute_result",
          "data": {
            "text/plain": [
              "90 min    152\n",
              "94 min    146\n",
              "93 min    146\n",
              "97 min    146\n",
              "91 min    144\n",
              "Name: duration, dtype: int64"
            ]
          },
          "metadata": {},
          "execution_count": 28
        }
      ]
    },
    {
      "cell_type": "code",
      "source": [
        "netflix_movie[netflix_movie['duration'].isna()]"
      ],
      "metadata": {
        "colab": {
          "base_uri": "https://localhost:8080/",
          "height": 143
        },
        "id": "HR5ljAtwsQR6",
        "outputId": "60517bc3-5845-45d4-d5d8-31f3f3855645"
      },
      "execution_count": 29,
      "outputs": [
        {
          "output_type": "execute_result",
          "data": {
            "text/plain": [
              "     show_id   type                                 title    director  \\\n",
              "5541   s5542  Movie                       Louis C.K. 2017  Louis C.K.   \n",
              "5794   s5795  Movie                 Louis C.K.: Hilarious  Louis C.K.   \n",
              "5813   s5814  Movie  Louis C.K.: Live at the Comedy Store  Louis C.K.   \n",
              "\n",
              "            cast        country          date_added  release_year  rating  \\\n",
              "5541  Louis C.K.  United States       April 4, 2017          2017  74 min   \n",
              "5794  Louis C.K.  United States  September 16, 2016          2010  84 min   \n",
              "5813  Louis C.K.  United States     August 15, 2016          2015  66 min   \n",
              "\n",
              "     duration listed_in                                        description  \n",
              "5541      NaN    Movies  Louis C.K. muses on religion, eternal love, gi...  \n",
              "5794      NaN    Movies  Emmy-winning comedy writer Louis C.K. brings h...  \n",
              "5813      NaN    Movies  The comic puts his trademark hilarious/thought...  "
            ],
            "text/html": [
              "\n",
              "  <div id=\"df-85bdb3bd-7c0b-4539-89cf-a5f83e17ce0e\">\n",
              "    <div class=\"colab-df-container\">\n",
              "      <div>\n",
              "<style scoped>\n",
              "    .dataframe tbody tr th:only-of-type {\n",
              "        vertical-align: middle;\n",
              "    }\n",
              "\n",
              "    .dataframe tbody tr th {\n",
              "        vertical-align: top;\n",
              "    }\n",
              "\n",
              "    .dataframe thead th {\n",
              "        text-align: right;\n",
              "    }\n",
              "</style>\n",
              "<table border=\"1\" class=\"dataframe\">\n",
              "  <thead>\n",
              "    <tr style=\"text-align: right;\">\n",
              "      <th></th>\n",
              "      <th>show_id</th>\n",
              "      <th>type</th>\n",
              "      <th>title</th>\n",
              "      <th>director</th>\n",
              "      <th>cast</th>\n",
              "      <th>country</th>\n",
              "      <th>date_added</th>\n",
              "      <th>release_year</th>\n",
              "      <th>rating</th>\n",
              "      <th>duration</th>\n",
              "      <th>listed_in</th>\n",
              "      <th>description</th>\n",
              "    </tr>\n",
              "  </thead>\n",
              "  <tbody>\n",
              "    <tr>\n",
              "      <th>5541</th>\n",
              "      <td>s5542</td>\n",
              "      <td>Movie</td>\n",
              "      <td>Louis C.K. 2017</td>\n",
              "      <td>Louis C.K.</td>\n",
              "      <td>Louis C.K.</td>\n",
              "      <td>United States</td>\n",
              "      <td>April 4, 2017</td>\n",
              "      <td>2017</td>\n",
              "      <td>74 min</td>\n",
              "      <td>NaN</td>\n",
              "      <td>Movies</td>\n",
              "      <td>Louis C.K. muses on religion, eternal love, gi...</td>\n",
              "    </tr>\n",
              "    <tr>\n",
              "      <th>5794</th>\n",
              "      <td>s5795</td>\n",
              "      <td>Movie</td>\n",
              "      <td>Louis C.K.: Hilarious</td>\n",
              "      <td>Louis C.K.</td>\n",
              "      <td>Louis C.K.</td>\n",
              "      <td>United States</td>\n",
              "      <td>September 16, 2016</td>\n",
              "      <td>2010</td>\n",
              "      <td>84 min</td>\n",
              "      <td>NaN</td>\n",
              "      <td>Movies</td>\n",
              "      <td>Emmy-winning comedy writer Louis C.K. brings h...</td>\n",
              "    </tr>\n",
              "    <tr>\n",
              "      <th>5813</th>\n",
              "      <td>s5814</td>\n",
              "      <td>Movie</td>\n",
              "      <td>Louis C.K.: Live at the Comedy Store</td>\n",
              "      <td>Louis C.K.</td>\n",
              "      <td>Louis C.K.</td>\n",
              "      <td>United States</td>\n",
              "      <td>August 15, 2016</td>\n",
              "      <td>2015</td>\n",
              "      <td>66 min</td>\n",
              "      <td>NaN</td>\n",
              "      <td>Movies</td>\n",
              "      <td>The comic puts his trademark hilarious/thought...</td>\n",
              "    </tr>\n",
              "  </tbody>\n",
              "</table>\n",
              "</div>\n",
              "      <button class=\"colab-df-convert\" onclick=\"convertToInteractive('df-85bdb3bd-7c0b-4539-89cf-a5f83e17ce0e')\"\n",
              "              title=\"Convert this dataframe to an interactive table.\"\n",
              "              style=\"display:none;\">\n",
              "        \n",
              "  <svg xmlns=\"http://www.w3.org/2000/svg\" height=\"24px\"viewBox=\"0 0 24 24\"\n",
              "       width=\"24px\">\n",
              "    <path d=\"M0 0h24v24H0V0z\" fill=\"none\"/>\n",
              "    <path d=\"M18.56 5.44l.94 2.06.94-2.06 2.06-.94-2.06-.94-.94-2.06-.94 2.06-2.06.94zm-11 1L8.5 8.5l.94-2.06 2.06-.94-2.06-.94L8.5 2.5l-.94 2.06-2.06.94zm10 10l.94 2.06.94-2.06 2.06-.94-2.06-.94-.94-2.06-.94 2.06-2.06.94z\"/><path d=\"M17.41 7.96l-1.37-1.37c-.4-.4-.92-.59-1.43-.59-.52 0-1.04.2-1.43.59L10.3 9.45l-7.72 7.72c-.78.78-.78 2.05 0 2.83L4 21.41c.39.39.9.59 1.41.59.51 0 1.02-.2 1.41-.59l7.78-7.78 2.81-2.81c.8-.78.8-2.07 0-2.86zM5.41 20L4 18.59l7.72-7.72 1.47 1.35L5.41 20z\"/>\n",
              "  </svg>\n",
              "      </button>\n",
              "      \n",
              "  <style>\n",
              "    .colab-df-container {\n",
              "      display:flex;\n",
              "      flex-wrap:wrap;\n",
              "      gap: 12px;\n",
              "    }\n",
              "\n",
              "    .colab-df-convert {\n",
              "      background-color: #E8F0FE;\n",
              "      border: none;\n",
              "      border-radius: 50%;\n",
              "      cursor: pointer;\n",
              "      display: none;\n",
              "      fill: #1967D2;\n",
              "      height: 32px;\n",
              "      padding: 0 0 0 0;\n",
              "      width: 32px;\n",
              "    }\n",
              "\n",
              "    .colab-df-convert:hover {\n",
              "      background-color: #E2EBFA;\n",
              "      box-shadow: 0px 1px 2px rgba(60, 64, 67, 0.3), 0px 1px 3px 1px rgba(60, 64, 67, 0.15);\n",
              "      fill: #174EA6;\n",
              "    }\n",
              "\n",
              "    [theme=dark] .colab-df-convert {\n",
              "      background-color: #3B4455;\n",
              "      fill: #D2E3FC;\n",
              "    }\n",
              "\n",
              "    [theme=dark] .colab-df-convert:hover {\n",
              "      background-color: #434B5C;\n",
              "      box-shadow: 0px 1px 3px 1px rgba(0, 0, 0, 0.15);\n",
              "      filter: drop-shadow(0px 1px 2px rgba(0, 0, 0, 0.3));\n",
              "      fill: #FFFFFF;\n",
              "    }\n",
              "  </style>\n",
              "\n",
              "      <script>\n",
              "        const buttonEl =\n",
              "          document.querySelector('#df-85bdb3bd-7c0b-4539-89cf-a5f83e17ce0e button.colab-df-convert');\n",
              "        buttonEl.style.display =\n",
              "          google.colab.kernel.accessAllowed ? 'block' : 'none';\n",
              "\n",
              "        async function convertToInteractive(key) {\n",
              "          const element = document.querySelector('#df-85bdb3bd-7c0b-4539-89cf-a5f83e17ce0e');\n",
              "          const dataTable =\n",
              "            await google.colab.kernel.invokeFunction('convertToInteractive',\n",
              "                                                     [key], {});\n",
              "          if (!dataTable) return;\n",
              "\n",
              "          const docLinkHtml = 'Like what you see? Visit the ' +\n",
              "            '<a target=\"_blank\" href=https://colab.research.google.com/notebooks/data_table.ipynb>data table notebook</a>'\n",
              "            + ' to learn more about interactive tables.';\n",
              "          element.innerHTML = '';\n",
              "          dataTable['output_type'] = 'display_data';\n",
              "          await google.colab.output.renderOutput(dataTable, element);\n",
              "          const docLink = document.createElement('div');\n",
              "          docLink.innerHTML = docLinkHtml;\n",
              "          element.appendChild(docLink);\n",
              "        }\n",
              "      </script>\n",
              "    </div>\n",
              "  </div>\n",
              "  "
            ]
          },
          "metadata": {},
          "execution_count": 29
        }
      ]
    },
    {
      "cell_type": "markdown",
      "source": [
        "есть несколько пропусков заполним их модой"
      ],
      "metadata": {
        "id": "R9ypgSVeHWAo"
      }
    },
    {
      "cell_type": "code",
      "source": [
        "mode_min = netflix_movie['duration'].mode()\n",
        "netflix_movie.loc[netflix_movie['duration'].isna(), \"duration\"] = mode_min[0]"
      ],
      "metadata": {
        "id": "AAb2KcFRqwLN"
      },
      "execution_count": 30,
      "outputs": []
    },
    {
      "cell_type": "markdown",
      "source": [
        "преобразуем тип значений для отрисовки частотности"
      ],
      "metadata": {
        "id": "1shH5rS_pq3i"
      }
    },
    {
      "cell_type": "code",
      "source": [
        "# удалим слово min\n",
        "netflix_movie['duration'] = netflix_movie['duration'].str.replace(' min', '')\n",
        "# оставшиеся цифры переведем в int\n",
        "netflix_movie['duration'] = netflix_movie['duration'].astype(int)\n",
        "netflix_movie['duration']"
      ],
      "metadata": {
        "colab": {
          "base_uri": "https://localhost:8080/"
        },
        "id": "qEMrudnzdwtY",
        "outputId": "d625d405-3c3b-40a7-d8d8-8021878b246a"
      },
      "execution_count": 31,
      "outputs": [
        {
          "output_type": "execute_result",
          "data": {
            "text/plain": [
              "0        90\n",
              "6        91\n",
              "7       125\n",
              "9       104\n",
              "12      127\n",
              "       ... \n",
              "8801     96\n",
              "8802    158\n",
              "8804     88\n",
              "8805     88\n",
              "8806    111\n",
              "Name: duration, Length: 6131, dtype: int64"
            ]
          },
          "metadata": {},
          "execution_count": 31
        }
      ]
    },
    {
      "cell_type": "code",
      "source": [
        "fig = px.histogram(x=netflix_movie['duration'])\n",
        "fig.show('png')"
      ],
      "metadata": {
        "id": "yPlzot-3dwqo",
        "colab": {
          "base_uri": "https://localhost:8080/",
          "height": 517
        },
        "outputId": "657a1c9f-9594-41dc-d4d7-c8f1e3395243"
      },
      "execution_count": 32,
      "outputs": [
        {
          "output_type": "display_data",
          "data": {
            "image/png": "[encoded data removed]"
          },
          "metadata": {}
        }
      ]
    },
    {
      "cell_type": "markdown",
      "source": [
        "Большинство фильмов имеют длительность от 75 до 120 минут"
      ],
      "metadata": {
        "id": "KJBfoNgwHiwh"
      }
    },
    {
      "cell_type": "markdown",
      "source": [
        "## Анализ жанров фильмов"
      ],
      "metadata": {
        "id": "qyEv4vJSpTVy"
      }
    },
    {
      "cell_type": "code",
      "source": [
        "netflix_movie['listed_in'].sample(10)"
      ],
      "metadata": {
        "id": "ttPBQNrOdwoP",
        "colab": {
          "base_uri": "https://localhost:8080/"
        },
        "outputId": "0f0c8258-8c7a-46ee-c0a3-6c563352e038"
      },
      "execution_count": 33,
      "outputs": [
        {
          "output_type": "execute_result",
          "data": {
            "text/plain": [
              "5039                                    Stand-Up Comedy\n",
              "8359                           Children & Family Movies\n",
              "7137                    International Movies, Thrillers\n",
              "7474                         Dramas, Independent Movies\n",
              "1775                  Horror Movies, Independent Movies\n",
              "6999                Horror Movies, International Movies\n",
              "6257                  Comedies, Dramas, Romantic Movies\n",
              "728                                       Horror Movies\n",
              "688     Comedies, International Movies, Romantic Movies\n",
              "5999                         Dramas, Independent Movies\n",
              "Name: listed_in, dtype: object"
            ]
          },
          "metadata": {},
          "execution_count": 33
        }
      ]
    },
    {
      "cell_type": "markdown",
      "source": [
        "Посчитаем упоминания всех жанров "
      ],
      "metadata": {
        "id": "fZYZS-wYI437"
      }
    },
    {
      "cell_type": "code",
      "source": [
        "genres = get_counts(list(netflix_movie['listed_in']))[:10]"
      ],
      "metadata": {
        "id": "27yfhSjbTu3m"
      },
      "execution_count": 34,
      "outputs": []
    },
    {
      "cell_type": "code",
      "source": [
        "get_graph_counts(genres, \"Количество фильмов по жанрам\", \"жанры\", \"Количество упоминаний\")"
      ],
      "metadata": {
        "colab": {
          "base_uri": "https://localhost:8080/",
          "height": 417
        },
        "id": "pQO9VcHvTvYn",
        "outputId": "f136a05f-4943-417e-af50-56eee9f61e58"
      },
      "execution_count": 35,
      "outputs": [
        {
          "output_type": "display_data",
          "data": {
            "image/png": "[encoded data removed]"
          },
          "metadata": {}
        }
      ]
    },
    {
      "cell_type": "markdown",
      "source": [
        "#Анализ сериалов"
      ],
      "metadata": {
        "id": "PgLLyIpl7Z8o"
      }
    },
    {
      "cell_type": "markdown",
      "source": [
        "###Анализ стран, выпускающих сериалы"
      ],
      "metadata": {
        "id": "9GU3JQ7yM0WF"
      }
    },
    {
      "cell_type": "code",
      "source": [
        "netflix_shows['country'].isna().sum()"
      ],
      "metadata": {
        "id": "ptyJ4u5vdwlq",
        "colab": {
          "base_uri": "https://localhost:8080/"
        },
        "outputId": "15ae9713-5bdc-45ab-8eb5-7b3f9b02b57d"
      },
      "execution_count": 36,
      "outputs": [
        {
          "output_type": "execute_result",
          "data": {
            "text/plain": [
              "391"
            ]
          },
          "metadata": {},
          "execution_count": 36
        }
      ]
    },
    {
      "cell_type": "code",
      "source": [
        "netflix_shows['country'].fillna('Unknow', inplace=True)"
      ],
      "metadata": {
        "id": "k_eLSgJldv5u"
      },
      "execution_count": 37,
      "outputs": []
    },
    {
      "cell_type": "code",
      "source": [
        "netflix_shows['country'].value_counts()"
      ],
      "metadata": {
        "id": "C3zCVs1Vdv2-",
        "colab": {
          "base_uri": "https://localhost:8080/"
        },
        "outputId": "daf42434-9fd5-40b9-de32-ee25925978ca"
      },
      "execution_count": 38,
      "outputs": [
        {
          "output_type": "execute_result",
          "data": {
            "text/plain": [
              "United States                                    760\n",
              "Unknow                                           391\n",
              "United Kingdom                                   213\n",
              "Japan                                            169\n",
              "South Korea                                      158\n",
              "                                                ... \n",
              "Belarus                                            1\n",
              "United Kingdom, Australia                          1\n",
              "France, Australia, Germany                         1\n",
              "Australia, New Zealand, United States              1\n",
              "United States, France, South Korea, Indonesia      1\n",
              "Name: country, Length: 197, dtype: int64"
            ]
          },
          "metadata": {},
          "execution_count": 38
        }
      ]
    },
    {
      "cell_type": "code",
      "source": [
        "countries = get_counts(list(netflix_shows['country']))[:10]\n",
        "get_graph_counts(countries, \"Количество упоминаний стран в создании сериалов\", \"страны\", \"Количество упоминаний\")"
      ],
      "metadata": {
        "id": "owmQdAd5dv08",
        "colab": {
          "base_uri": "https://localhost:8080/",
          "height": 417
        },
        "outputId": "66ff8acb-e824-4dd4-d72d-004b9fc1f8fa"
      },
      "execution_count": 39,
      "outputs": [
        {
          "output_type": "display_data",
          "data": {
            "image/png": "[encoded data removed]"
          },
          "metadata": {}
        }
      ]
    },
    {
      "cell_type": "markdown",
      "source": [
        "Индия со второго места по фильмам ушла на 8 место по сериалам"
      ],
      "metadata": {
        "id": "Mda4rlJAXT88"
      }
    },
    {
      "cell_type": "markdown",
      "source": [
        "### Сериалы с большим количеством сезонов,\n",
        "\n",
        "для этого возьмем заголовок и длительность"
      ],
      "metadata": {
        "id": "NgcYjOSOXfyF"
      }
    },
    {
      "cell_type": "code",
      "source": [
        "features = ['title','duration']\n",
        "durations = netflix_shows[features].copy()\n",
        "durations[:5]"
      ],
      "metadata": {
        "id": "wUPZP0xBdvxF",
        "colab": {
          "base_uri": "https://localhost:8080/",
          "height": 206
        },
        "outputId": "92874473-e642-4c2b-8bc0-9c90930d86a8"
      },
      "execution_count": 40,
      "outputs": [
        {
          "output_type": "execute_result",
          "data": {
            "text/plain": [
              "                   title   duration\n",
              "1          Blood & Water  2 Seasons\n",
              "2              Ganglands   1 Season\n",
              "3  Jailbirds New Orleans   1 Season\n",
              "4           Kota Factory  2 Seasons\n",
              "5          Midnight Mass   1 Season"
            ],
            "text/html": [
              "\n",
              "  <div id=\"df-9d5b81d3-209f-4237-bd50-67190fb910b5\">\n",
              "    <div class=\"colab-df-container\">\n",
              "      <div>\n",
              "<style scoped>\n",
              "    .dataframe tbody tr th:only-of-type {\n",
              "        vertical-align: middle;\n",
              "    }\n",
              "\n",
              "    .dataframe tbody tr th {\n",
              "        vertical-align: top;\n",
              "    }\n",
              "\n",
              "    .dataframe thead th {\n",
              "        text-align: right;\n",
              "    }\n",
              "</style>\n",
              "<table border=\"1\" class=\"dataframe\">\n",
              "  <thead>\n",
              "    <tr style=\"text-align: right;\">\n",
              "      <th></th>\n",
              "      <th>title</th>\n",
              "      <th>duration</th>\n",
              "    </tr>\n",
              "  </thead>\n",
              "  <tbody>\n",
              "    <tr>\n",
              "      <th>1</th>\n",
              "      <td>Blood &amp; Water</td>\n",
              "      <td>2 Seasons</td>\n",
              "    </tr>\n",
              "    <tr>\n",
              "      <th>2</th>\n",
              "      <td>Ganglands</td>\n",
              "      <td>1 Season</td>\n",
              "    </tr>\n",
              "    <tr>\n",
              "      <th>3</th>\n",
              "      <td>Jailbirds New Orleans</td>\n",
              "      <td>1 Season</td>\n",
              "    </tr>\n",
              "    <tr>\n",
              "      <th>4</th>\n",
              "      <td>Kota Factory</td>\n",
              "      <td>2 Seasons</td>\n",
              "    </tr>\n",
              "    <tr>\n",
              "      <th>5</th>\n",
              "      <td>Midnight Mass</td>\n",
              "      <td>1 Season</td>\n",
              "    </tr>\n",
              "  </tbody>\n",
              "</table>\n",
              "</div>\n",
              "      <button class=\"colab-df-convert\" onclick=\"convertToInteractive('df-9d5b81d3-209f-4237-bd50-67190fb910b5')\"\n",
              "              title=\"Convert this dataframe to an interactive table.\"\n",
              "              style=\"display:none;\">\n",
              "        \n",
              "  <svg xmlns=\"http://www.w3.org/2000/svg\" height=\"24px\"viewBox=\"0 0 24 24\"\n",
              "       width=\"24px\">\n",
              "    <path d=\"M0 0h24v24H0V0z\" fill=\"none\"/>\n",
              "    <path d=\"M18.56 5.44l.94 2.06.94-2.06 2.06-.94-2.06-.94-.94-2.06-.94 2.06-2.06.94zm-11 1L8.5 8.5l.94-2.06 2.06-.94-2.06-.94L8.5 2.5l-.94 2.06-2.06.94zm10 10l.94 2.06.94-2.06 2.06-.94-2.06-.94-.94-2.06-.94 2.06-2.06.94z\"/><path d=\"M17.41 7.96l-1.37-1.37c-.4-.4-.92-.59-1.43-.59-.52 0-1.04.2-1.43.59L10.3 9.45l-7.72 7.72c-.78.78-.78 2.05 0 2.83L4 21.41c.39.39.9.59 1.41.59.51 0 1.02-.2 1.41-.59l7.78-7.78 2.81-2.81c.8-.78.8-2.07 0-2.86zM5.41 20L4 18.59l7.72-7.72 1.47 1.35L5.41 20z\"/>\n",
              "  </svg>\n",
              "      </button>\n",
              "      \n",
              "  <style>\n",
              "    .colab-df-container {\n",
              "      display:flex;\n",
              "      flex-wrap:wrap;\n",
              "      gap: 12px;\n",
              "    }\n",
              "\n",
              "    .colab-df-convert {\n",
              "      background-color: #E8F0FE;\n",
              "      border: none;\n",
              "      border-radius: 50%;\n",
              "      cursor: pointer;\n",
              "      display: none;\n",
              "      fill: #1967D2;\n",
              "      height: 32px;\n",
              "      padding: 0 0 0 0;\n",
              "      width: 32px;\n",
              "    }\n",
              "\n",
              "    .colab-df-convert:hover {\n",
              "      background-color: #E2EBFA;\n",
              "      box-shadow: 0px 1px 2px rgba(60, 64, 67, 0.3), 0px 1px 3px 1px rgba(60, 64, 67, 0.15);\n",
              "      fill: #174EA6;\n",
              "    }\n",
              "\n",
              "    [theme=dark] .colab-df-convert {\n",
              "      background-color: #3B4455;\n",
              "      fill: #D2E3FC;\n",
              "    }\n",
              "\n",
              "    [theme=dark] .colab-df-convert:hover {\n",
              "      background-color: #434B5C;\n",
              "      box-shadow: 0px 1px 3px 1px rgba(0, 0, 0, 0.15);\n",
              "      filter: drop-shadow(0px 1px 2px rgba(0, 0, 0, 0.3));\n",
              "      fill: #FFFFFF;\n",
              "    }\n",
              "  </style>\n",
              "\n",
              "      <script>\n",
              "        const buttonEl =\n",
              "          document.querySelector('#df-9d5b81d3-209f-4237-bd50-67190fb910b5 button.colab-df-convert');\n",
              "        buttonEl.style.display =\n",
              "          google.colab.kernel.accessAllowed ? 'block' : 'none';\n",
              "\n",
              "        async function convertToInteractive(key) {\n",
              "          const element = document.querySelector('#df-9d5b81d3-209f-4237-bd50-67190fb910b5');\n",
              "          const dataTable =\n",
              "            await google.colab.kernel.invokeFunction('convertToInteractive',\n",
              "                                                     [key], {});\n",
              "          if (!dataTable) return;\n",
              "\n",
              "          const docLinkHtml = 'Like what you see? Visit the ' +\n",
              "            '<a target=\"_blank\" href=https://colab.research.google.com/notebooks/data_table.ipynb>data table notebook</a>'\n",
              "            + ' to learn more about interactive tables.';\n",
              "          element.innerHTML = '';\n",
              "          dataTable['output_type'] = 'display_data';\n",
              "          await google.colab.output.renderOutput(dataTable, element);\n",
              "          const docLink = document.createElement('div');\n",
              "          docLink.innerHTML = docLinkHtml;\n",
              "          element.appendChild(docLink);\n",
              "        }\n",
              "      </script>\n",
              "    </div>\n",
              "  </div>\n",
              "  "
            ]
          },
          "metadata": {},
          "execution_count": 40
        }
      ]
    },
    {
      "cell_type": "markdown",
      "source": [
        "Создадим функцию для перевода количества в цифровой тип"
      ],
      "metadata": {
        "id": "spGXPJQ_7m-r"
      }
    },
    {
      "cell_type": "code",
      "source": [
        "def get_int_seasons(text):\n",
        "    text = text.replace(' Season','')  # очищаем от слов и букв\n",
        "    text = text.replace('s','')\n",
        "    number = int(text)\n",
        "    return number\n",
        "\n",
        "durations['no_of_seasons'] = durations['duration'].apply(lambda x: get_int_seasons(x))\n",
        "durations.head(5)"
      ],
      "metadata": {
        "colab": {
          "base_uri": "https://localhost:8080/",
          "height": 206
        },
        "id": "kyqzieHzsP9-",
        "outputId": "e9f88fcd-5c54-4c4c-9612-7f329d76be94"
      },
      "execution_count": 41,
      "outputs": [
        {
          "output_type": "execute_result",
          "data": {
            "text/plain": [
              "                   title   duration  no_of_seasons\n",
              "1          Blood & Water  2 Seasons              2\n",
              "2              Ganglands   1 Season              1\n",
              "3  Jailbirds New Orleans   1 Season              1\n",
              "4           Kota Factory  2 Seasons              2\n",
              "5          Midnight Mass   1 Season              1"
            ],
            "text/html": [
              "\n",
              "  <div id=\"df-6446b281-a8af-4824-bebb-8e8aaa0a98d1\">\n",
              "    <div class=\"colab-df-container\">\n",
              "      <div>\n",
              "<style scoped>\n",
              "    .dataframe tbody tr th:only-of-type {\n",
              "        vertical-align: middle;\n",
              "    }\n",
              "\n",
              "    .dataframe tbody tr th {\n",
              "        vertical-align: top;\n",
              "    }\n",
              "\n",
              "    .dataframe thead th {\n",
              "        text-align: right;\n",
              "    }\n",
              "</style>\n",
              "<table border=\"1\" class=\"dataframe\">\n",
              "  <thead>\n",
              "    <tr style=\"text-align: right;\">\n",
              "      <th></th>\n",
              "      <th>title</th>\n",
              "      <th>duration</th>\n",
              "      <th>no_of_seasons</th>\n",
              "    </tr>\n",
              "  </thead>\n",
              "  <tbody>\n",
              "    <tr>\n",
              "      <th>1</th>\n",
              "      <td>Blood &amp; Water</td>\n",
              "      <td>2 Seasons</td>\n",
              "      <td>2</td>\n",
              "    </tr>\n",
              "    <tr>\n",
              "      <th>2</th>\n",
              "      <td>Ganglands</td>\n",
              "      <td>1 Season</td>\n",
              "      <td>1</td>\n",
              "    </tr>\n",
              "    <tr>\n",
              "      <th>3</th>\n",
              "      <td>Jailbirds New Orleans</td>\n",
              "      <td>1 Season</td>\n",
              "      <td>1</td>\n",
              "    </tr>\n",
              "    <tr>\n",
              "      <th>4</th>\n",
              "      <td>Kota Factory</td>\n",
              "      <td>2 Seasons</td>\n",
              "      <td>2</td>\n",
              "    </tr>\n",
              "    <tr>\n",
              "      <th>5</th>\n",
              "      <td>Midnight Mass</td>\n",
              "      <td>1 Season</td>\n",
              "      <td>1</td>\n",
              "    </tr>\n",
              "  </tbody>\n",
              "</table>\n",
              "</div>\n",
              "      <button class=\"colab-df-convert\" onclick=\"convertToInteractive('df-6446b281-a8af-4824-bebb-8e8aaa0a98d1')\"\n",
              "              title=\"Convert this dataframe to an interactive table.\"\n",
              "              style=\"display:none;\">\n",
              "        \n",
              "  <svg xmlns=\"http://www.w3.org/2000/svg\" height=\"24px\"viewBox=\"0 0 24 24\"\n",
              "       width=\"24px\">\n",
              "    <path d=\"M0 0h24v24H0V0z\" fill=\"none\"/>\n",
              "    <path d=\"M18.56 5.44l.94 2.06.94-2.06 2.06-.94-2.06-.94-.94-2.06-.94 2.06-2.06.94zm-11 1L8.5 8.5l.94-2.06 2.06-.94-2.06-.94L8.5 2.5l-.94 2.06-2.06.94zm10 10l.94 2.06.94-2.06 2.06-.94-2.06-.94-.94-2.06-.94 2.06-2.06.94z\"/><path d=\"M17.41 7.96l-1.37-1.37c-.4-.4-.92-.59-1.43-.59-.52 0-1.04.2-1.43.59L10.3 9.45l-7.72 7.72c-.78.78-.78 2.05 0 2.83L4 21.41c.39.39.9.59 1.41.59.51 0 1.02-.2 1.41-.59l7.78-7.78 2.81-2.81c.8-.78.8-2.07 0-2.86zM5.41 20L4 18.59l7.72-7.72 1.47 1.35L5.41 20z\"/>\n",
              "  </svg>\n",
              "      </button>\n",
              "      \n",
              "  <style>\n",
              "    .colab-df-container {\n",
              "      display:flex;\n",
              "      flex-wrap:wrap;\n",
              "      gap: 12px;\n",
              "    }\n",
              "\n",
              "    .colab-df-convert {\n",
              "      background-color: #E8F0FE;\n",
              "      border: none;\n",
              "      border-radius: 50%;\n",
              "      cursor: pointer;\n",
              "      display: none;\n",
              "      fill: #1967D2;\n",
              "      height: 32px;\n",
              "      padding: 0 0 0 0;\n",
              "      width: 32px;\n",
              "    }\n",
              "\n",
              "    .colab-df-convert:hover {\n",
              "      background-color: #E2EBFA;\n",
              "      box-shadow: 0px 1px 2px rgba(60, 64, 67, 0.3), 0px 1px 3px 1px rgba(60, 64, 67, 0.15);\n",
              "      fill: #174EA6;\n",
              "    }\n",
              "\n",
              "    [theme=dark] .colab-df-convert {\n",
              "      background-color: #3B4455;\n",
              "      fill: #D2E3FC;\n",
              "    }\n",
              "\n",
              "    [theme=dark] .colab-df-convert:hover {\n",
              "      background-color: #434B5C;\n",
              "      box-shadow: 0px 1px 3px 1px rgba(0, 0, 0, 0.15);\n",
              "      filter: drop-shadow(0px 1px 2px rgba(0, 0, 0, 0.3));\n",
              "      fill: #FFFFFF;\n",
              "    }\n",
              "  </style>\n",
              "\n",
              "      <script>\n",
              "        const buttonEl =\n",
              "          document.querySelector('#df-6446b281-a8af-4824-bebb-8e8aaa0a98d1 button.colab-df-convert');\n",
              "        buttonEl.style.display =\n",
              "          google.colab.kernel.accessAllowed ? 'block' : 'none';\n",
              "\n",
              "        async function convertToInteractive(key) {\n",
              "          const element = document.querySelector('#df-6446b281-a8af-4824-bebb-8e8aaa0a98d1');\n",
              "          const dataTable =\n",
              "            await google.colab.kernel.invokeFunction('convertToInteractive',\n",
              "                                                     [key], {});\n",
              "          if (!dataTable) return;\n",
              "\n",
              "          const docLinkHtml = 'Like what you see? Visit the ' +\n",
              "            '<a target=\"_blank\" href=https://colab.research.google.com/notebooks/data_table.ipynb>data table notebook</a>'\n",
              "            + ' to learn more about interactive tables.';\n",
              "          element.innerHTML = '';\n",
              "          dataTable['output_type'] = 'display_data';\n",
              "          await google.colab.output.renderOutput(dataTable, element);\n",
              "          const docLink = document.createElement('div');\n",
              "          docLink.innerHTML = docLinkHtml;\n",
              "          element.appendChild(docLink);\n",
              "        }\n",
              "      </script>\n",
              "    </div>\n",
              "  </div>\n",
              "  "
            ]
          },
          "metadata": {},
          "execution_count": 41
        }
      ]
    },
    {
      "cell_type": "markdown",
      "source": [
        "теперь подготовим данные для передачи в функцию отрисовки"
      ],
      "metadata": {
        "id": "xYClyjlg7xIc"
      }
    },
    {
      "cell_type": "code",
      "source": [
        "t = ['title', 'no_of_seasons' ]\n",
        "top = durations[t]\n",
        "\n",
        "top = top.sort_values(by='no_of_seasons', ascending=False)"
      ],
      "metadata": {
        "id": "K9p0HBqkdvuY"
      },
      "execution_count": 42,
      "outputs": []
    },
    {
      "cell_type": "code",
      "source": [
        "top = durations[t].sort_values(by='no_of_seasons', ascending=False).set_index('title')[:20].to_dict()"
      ],
      "metadata": {
        "id": "xgXItqIa07yj"
      },
      "execution_count": 43,
      "outputs": []
    },
    {
      "cell_type": "code",
      "source": [
        "get_graph_counts(top['no_of_seasons'].items(), \"ТОП по количеству сезонов сериалов\", \"Сериалы\", \"Количество сезонов\")"
      ],
      "metadata": {
        "id": "ygGK_nHrdvoI",
        "colab": {
          "base_uri": "https://localhost:8080/",
          "height": 417
        },
        "outputId": "1e295280-c9bc-4387-8894-80b0388ed5a3"
      },
      "execution_count": 44,
      "outputs": [
        {
          "output_type": "display_data",
          "data": {
            "image/png": "[encoded data removed]"
          },
          "metadata": {}
        }
      ]
    },
    {
      "cell_type": "markdown",
      "source": [
        "самый долго живущий сериал на netflix - \"Анатомия Грейс\""
      ],
      "metadata": {
        "id": "YBqGqk-m5aRx"
      }
    },
    {
      "cell_type": "markdown",
      "source": [
        "###Анализ жанров сериалов"
      ],
      "metadata": {
        "id": "v7Q5wPNr5-vy"
      }
    },
    {
      "cell_type": "code",
      "source": [
        "netflix_shows['listed_in'].head()"
      ],
      "metadata": {
        "colab": {
          "base_uri": "https://localhost:8080/"
        },
        "id": "Ga8GoLqQ5-LF",
        "outputId": "805d36d2-71bb-45ee-dc24-b4cacdbf224e"
      },
      "execution_count": 45,
      "outputs": [
        {
          "output_type": "execute_result",
          "data": {
            "text/plain": [
              "1      International TV Shows, TV Dramas, TV Mysteries\n",
              "2    Crime TV Shows, International TV Shows, TV Act...\n",
              "3                               Docuseries, Reality TV\n",
              "4    International TV Shows, Romantic TV Shows, TV ...\n",
              "5                   TV Dramas, TV Horror, TV Mysteries\n",
              "Name: listed_in, dtype: object"
            ]
          },
          "metadata": {},
          "execution_count": 45
        }
      ]
    },
    {
      "cell_type": "code",
      "source": [
        "genres_show = get_counts(list(netflix_shows['listed_in']))[:15]\n",
        "get_graph_counts(genres_show, \"Количество упоминаний жанра в сериалах\", \"жанры\", \"Количество упоминаний\")"
      ],
      "metadata": {
        "colab": {
          "base_uri": "https://localhost:8080/",
          "height": 417
        },
        "id": "IlQNPCt76iSE",
        "outputId": "8acffe85-6b7b-47f4-f337-23be4b5f49b3"
      },
      "execution_count": 46,
      "outputs": [
        {
          "output_type": "display_data",
          "data": {
            "image/png": "[encoded data removed]"
          },
          "metadata": {}
        }
      ]
    },
    {
      "cell_type": "markdown",
      "source": [
        "по статистике жанров примерно тоже самое что и в фильмах"
      ],
      "metadata": {
        "id": "Q_Nga7mA6_xu"
      }
    },
    {
      "cell_type": "markdown",
      "source": [
        "Анализ продолжительности сериалов"
      ],
      "metadata": {
        "id": "4PuxSj1w7D81"
      }
    },
    {
      "cell_type": "code",
      "source": [
        "fig = px.histogram(durations['no_of_seasons'], x='no_of_seasons', nbins=20)\n",
        "fig.update_layout(    \n",
        "    title=\"гистограмма количеств сезонов\",\n",
        "    xaxis_title=\"количество сезонов\",\n",
        "    yaxis_title=\"частота\")\n",
        "fig.show('png')"
      ],
      "metadata": {
        "colab": {
          "base_uri": "https://localhost:8080/",
          "height": 517
        },
        "id": "idFYEnCq64jH",
        "outputId": "c1ab03ff-6905-47eb-f40a-6ace2219d43f"
      },
      "execution_count": 47,
      "outputs": [
        {
          "output_type": "display_data",
          "data": {
            "image/png": "[encoded data removed]"
          },
          "metadata": {}
        }
      ]
    },
    {
      "cell_type": "markdown",
      "source": [
        "подавляющее большинство сериалов выходит одним сезоном. возможно это не очень хорошие сериалы."
      ],
      "metadata": {
        "id": "m6QCcNc3-xf5"
      }
    },
    {
      "cell_type": "markdown",
      "source": [
        "#Система рекомендаций"
      ],
      "metadata": {
        "id": "KGQimWzp_FuW"
      }
    },
    {
      "cell_type": "markdown",
      "source": [
        "Создадим функцию которая  на основе похожести одного выбранного фильма будет рекомендовать подобные.\n",
        "\n",
        "Для этого воспользуемся векторизацией tf-idf описаний к фильмам на netflix. Данный векторизатор оценивает встречаемость слов не только в одном объекте, но и по всему переданнному массиву. "
      ],
      "metadata": {
        "id": "_eTAC4to_LgQ"
      }
    },
    {
      "cell_type": "code",
      "source": [
        "from sklearn.feature_extraction.text import TfidfVectorizer"
      ],
      "metadata": {
        "id": "Jntd1T_RC7dZ"
      },
      "execution_count": 50,
      "outputs": []
    },
    {
      "cell_type": "code",
      "source": [
        "#  избавимся от пропусков\n",
        "netflix_movie['description'] = netflix_movie['description'].fillna('')"
      ],
      "metadata": {
        "id": "DgOMfqudC7Z9"
      },
      "execution_count": 51,
      "outputs": []
    },
    {
      "cell_type": "code",
      "source": [
        "netflix_movie['description'].head()"
      ],
      "metadata": {
        "colab": {
          "base_uri": "https://localhost:8080/"
        },
        "id": "nFWKdZ1QC7f3",
        "outputId": "3c67d5a9-c759-4a76-d71b-8989e8e29a5a"
      },
      "execution_count": 48,
      "outputs": [
        {
          "output_type": "execute_result",
          "data": {
            "text/plain": [
              "0     As her father nears the end of his life, filmm...\n",
              "6     Equestria's divided. But a bright-eyed hero be...\n",
              "7     On a photo shoot in Ghana, an American model s...\n",
              "9     A woman adjusting to life after a loss contend...\n",
              "12    After most of her family is murdered in a terr...\n",
              "Name: description, dtype: object"
            ]
          },
          "metadata": {},
          "execution_count": 48
        }
      ]
    },
    {
      "cell_type": "code",
      "source": [
        "# инициализируем модель векторизатора и с игнорированием стопслов на английском\n",
        "tfidf = TfidfVectorizer(stop_words='english')\n",
        "tfidf_matrix = tfidf.fit_transform(netflix_movie['description'])\n",
        "tfidf_matrix.shape"
      ],
      "metadata": {
        "colab": {
          "base_uri": "https://localhost:8080/"
        },
        "id": "vEJ4ijQlMiAz",
        "outputId": "700dd562-9484-4660-f3f5-22c4d408eec3"
      },
      "execution_count": 52,
      "outputs": [
        {
          "output_type": "execute_result",
          "data": {
            "text/plain": [
              "(6131, 15483)"
            ]
          },
          "metadata": {},
          "execution_count": 52
        }
      ]
    },
    {
      "cell_type": "markdown",
      "source": [
        "15483 слова из описаний к 6131 фильму"
      ],
      "metadata": {
        "id": "3FsFleohQGi4"
      }
    },
    {
      "cell_type": "markdown",
      "source": [
        "Рассчитывать векторные расстояния между описаний к фильмам будем с помощью косинусной похожести"
      ],
      "metadata": {
        "id": "E1dQiI-QQ_MB"
      }
    },
    {
      "cell_type": "code",
      "source": [
        "# загрузим библиотеку для расчетов похожести\n",
        "from sklearn.metrics.pairwise import cosine_similarity\n",
        "# передадим в функцию расчета векторизированнную матрицу описаний \n",
        "# и сравниваться она будет сама с собой - для расчета похожести именно среди описаний к фильмам на нетфликсе\n",
        "cosine_sim = cosine_similarity(tfidf_matrix,tfidf_matrix)\n",
        "cosine_sim.shape"
      ],
      "metadata": {
        "colab": {
          "base_uri": "https://localhost:8080/"
        },
        "id": "WQBECA33QBHm",
        "outputId": "4e50a3ee-3069-4c42-b216-eed549518ebe"
      },
      "execution_count": 56,
      "outputs": [
        {
          "output_type": "execute_result",
          "data": {
            "text/plain": [
              "(6131, 6131)"
            ]
          },
          "metadata": {},
          "execution_count": 56
        }
      ]
    },
    {
      "cell_type": "code",
      "source": [
        "# соберем в Серию индексы с названием фильмов\n",
        "indices = pd.Series(netflix_movie.index, index=netflix_movie['title']).drop_duplicates()\n",
        "indices.tail()"
      ],
      "metadata": {
        "colab": {
          "base_uri": "https://localhost:8080/"
        },
        "id": "WTWPa4YtQzXc",
        "outputId": "9263d106-0cd1-4ec6-ad2c-91cb2ababec4"
      },
      "execution_count": 58,
      "outputs": [
        {
          "output_type": "execute_result",
          "data": {
            "text/plain": [
              "title\n",
              "Zinzana       8801\n",
              "Zodiac        8802\n",
              "Zombieland    8804\n",
              "Zoom          8805\n",
              "Zubaan        8806\n",
              "dtype: int64"
            ]
          },
          "metadata": {},
          "execution_count": 58
        }
      ]
    },
    {
      "cell_type": "markdown",
      "source": [
        "Соберем таблицу с наименованиями в индексах и колонках, и значениями косинусной похожести на пересечениях\n"
      ],
      "metadata": {
        "id": "somaouHxUzpl"
      }
    },
    {
      "cell_type": "code",
      "source": [
        "cosine_sim_df = pd.DataFrame(cosine_sim)\n",
        "\n",
        "cosine_sim_df.columns = indices.index\n",
        "\n",
        "cosine_sim_df['title'] = indices.index\n",
        "cosine_sim_df = cosine_sim_df.set_index('title')\n",
        "\n",
        "cosine_sim_df.head()"
      ],
      "metadata": {
        "colab": {
          "base_uri": "https://localhost:8080/",
          "height": 536
        },
        "id": "gzv1E4pQQzUa",
        "outputId": "22b272a3-0c1f-4cf0-a785-c9f855130fee"
      },
      "execution_count": 61,
      "outputs": [
        {
          "output_type": "execute_result",
          "data": {
            "text/plain": [
              "title                             Dick Johnson Is Dead  \\\n",
              "title                                                    \n",
              "Dick Johnson Is Dead                          1.000000   \n",
              "My Little Pony: A New Generation              0.000000   \n",
              "Sankofa                                       0.000000   \n",
              "The Starling                                  0.018285   \n",
              "Je Suis Karl                                  0.000000   \n",
              "\n",
              "title                             My Little Pony: A New Generation  Sankofa  \\\n",
              "title                                                                         \n",
              "Dick Johnson Is Dead                                           0.0      0.0   \n",
              "My Little Pony: A New Generation                               1.0      0.0   \n",
              "Sankofa                                                        0.0      1.0   \n",
              "The Starling                                                   0.0      0.0   \n",
              "Je Suis Karl                                                   0.0      0.0   \n",
              "\n",
              "title                             The Starling  Je Suis Karl  \\\n",
              "title                                                          \n",
              "Dick Johnson Is Dead                  0.018285      0.000000   \n",
              "My Little Pony: A New Generation      0.000000      0.000000   \n",
              "Sankofa                               0.000000      0.000000   \n",
              "The Starling                          1.000000      0.029133   \n",
              "Je Suis Karl                          0.029133      1.000000   \n",
              "\n",
              "title                             Confessions of an Invisible Girl  \\\n",
              "title                                                                \n",
              "Dick Johnson Is Dead                                           0.0   \n",
              "My Little Pony: A New Generation                               0.0   \n",
              "Sankofa                                                        0.0   \n",
              "The Starling                                                   0.0   \n",
              "Je Suis Karl                                                   0.0   \n",
              "\n",
              "title                             Europe's Most Dangerous Man: Otto Skorzeny in Spain  \\\n",
              "title                                                                                   \n",
              "Dick Johnson Is Dead                                                       0.014848     \n",
              "My Little Pony: A New Generation                                           0.000000     \n",
              "Sankofa                                                                    0.000000     \n",
              "The Starling                                                               0.016294     \n",
              "Je Suis Karl                                                               0.000000     \n",
              "\n",
              "title                             Intrusion  Avvai Shanmughi  \\\n",
              "title                                                          \n",
              "Dick Johnson Is Dead                    0.0         0.023927   \n",
              "My Little Pony: A New Generation        0.0         0.000000   \n",
              "Sankofa                                 0.0         0.029736   \n",
              "The Starling                            0.0         0.000000   \n",
              "Je Suis Karl                            0.0         0.000000   \n",
              "\n",
              "title                             Go! Go! Cory Carson: Chrissy Takes the Wheel  \\\n",
              "title                                                                            \n",
              "Dick Johnson Is Dead                                                       0.0   \n",
              "My Little Pony: A New Generation                                           0.0   \n",
              "Sankofa                                                                    0.0   \n",
              "The Starling                                                               0.0   \n",
              "Je Suis Karl                                                               0.0   \n",
              "\n",
              "title                             ...  Young Tiger  Yours, Mine and Ours  \\\n",
              "title                             ...                                      \n",
              "Dick Johnson Is Dead              ...          0.0               0.02889   \n",
              "My Little Pony: A New Generation  ...          0.0               0.00000   \n",
              "Sankofa                           ...          0.0               0.00000   \n",
              "The Starling                      ...          0.0               0.00000   \n",
              "Je Suis Karl                      ...          0.0               0.00000   \n",
              "\n",
              "title                             اشتباك  Zed Plus  Zenda  Zinzana  Zodiac  \\\n",
              "title                                                                        \n",
              "Dick Johnson Is Dead                 0.0       0.0    0.0      0.0     0.0   \n",
              "My Little Pony: A New Generation     0.0       0.0    0.0      0.0     0.0   \n",
              "Sankofa                              0.0       0.0    0.0      0.0     0.0   \n",
              "The Starling                         0.0       0.0    0.0      0.0     0.0   \n",
              "Je Suis Karl                         0.0       0.0    0.0      0.0     0.0   \n",
              "\n",
              "title                             Zombieland      Zoom    Zubaan  \n",
              "title                                                             \n",
              "Dick Johnson Is Dead                0.000000  0.016245  0.000000  \n",
              "My Little Pony: A New Generation    0.000000  0.000000  0.000000  \n",
              "Sankofa                             0.000000  0.000000  0.036504  \n",
              "The Starling                        0.061674  0.017826  0.045998  \n",
              "Je Suis Karl                        0.000000  0.000000  0.028473  \n",
              "\n",
              "[5 rows x 6131 columns]"
            ],
            "text/html": [
              "\n",
              "  <div id=\"df-26a1995c-1db4-4a9e-87a4-b42ba727abca\">\n",
              "    <div class=\"colab-df-container\">\n",
              "      <div>\n",
              "<style scoped>\n",
              "    .dataframe tbody tr th:only-of-type {\n",
              "        vertical-align: middle;\n",
              "    }\n",
              "\n",
              "    .dataframe tbody tr th {\n",
              "        vertical-align: top;\n",
              "    }\n",
              "\n",
              "    .dataframe thead th {\n",
              "        text-align: right;\n",
              "    }\n",
              "</style>\n",
              "<table border=\"1\" class=\"dataframe\">\n",
              "  <thead>\n",
              "    <tr style=\"text-align: right;\">\n",
              "      <th>title</th>\n",
              "      <th>Dick Johnson Is Dead</th>\n",
              "      <th>My Little Pony: A New Generation</th>\n",
              "      <th>Sankofa</th>\n",
              "      <th>The Starling</th>\n",
              "      <th>Je Suis Karl</th>\n",
              "      <th>Confessions of an Invisible Girl</th>\n",
              "      <th>Europe's Most Dangerous Man: Otto Skorzeny in Spain</th>\n",
              "      <th>Intrusion</th>\n",
              "      <th>Avvai Shanmughi</th>\n",
              "      <th>Go! Go! Cory Carson: Chrissy Takes the Wheel</th>\n",
              "      <th>...</th>\n",
              "      <th>Young Tiger</th>\n",
              "      <th>Yours, Mine and Ours</th>\n",
              "      <th>اشتباك</th>\n",
              "      <th>Zed Plus</th>\n",
              "      <th>Zenda</th>\n",
              "      <th>Zinzana</th>\n",
              "      <th>Zodiac</th>\n",
              "      <th>Zombieland</th>\n",
              "      <th>Zoom</th>\n",
              "      <th>Zubaan</th>\n",
              "    </tr>\n",
              "    <tr>\n",
              "      <th>title</th>\n",
              "      <th></th>\n",
              "      <th></th>\n",
              "      <th></th>\n",
              "      <th></th>\n",
              "      <th></th>\n",
              "      <th></th>\n",
              "      <th></th>\n",
              "      <th></th>\n",
              "      <th></th>\n",
              "      <th></th>\n",
              "      <th></th>\n",
              "      <th></th>\n",
              "      <th></th>\n",
              "      <th></th>\n",
              "      <th></th>\n",
              "      <th></th>\n",
              "      <th></th>\n",
              "      <th></th>\n",
              "      <th></th>\n",
              "      <th></th>\n",
              "      <th></th>\n",
              "    </tr>\n",
              "  </thead>\n",
              "  <tbody>\n",
              "    <tr>\n",
              "      <th>Dick Johnson Is Dead</th>\n",
              "      <td>1.000000</td>\n",
              "      <td>0.0</td>\n",
              "      <td>0.0</td>\n",
              "      <td>0.018285</td>\n",
              "      <td>0.000000</td>\n",
              "      <td>0.0</td>\n",
              "      <td>0.014848</td>\n",
              "      <td>0.0</td>\n",
              "      <td>0.023927</td>\n",
              "      <td>0.0</td>\n",
              "      <td>...</td>\n",
              "      <td>0.0</td>\n",
              "      <td>0.02889</td>\n",
              "      <td>0.0</td>\n",
              "      <td>0.0</td>\n",
              "      <td>0.0</td>\n",
              "      <td>0.0</td>\n",
              "      <td>0.0</td>\n",
              "      <td>0.000000</td>\n",
              "      <td>0.016245</td>\n",
              "      <td>0.000000</td>\n",
              "    </tr>\n",
              "    <tr>\n",
              "      <th>My Little Pony: A New Generation</th>\n",
              "      <td>0.000000</td>\n",
              "      <td>1.0</td>\n",
              "      <td>0.0</td>\n",
              "      <td>0.000000</td>\n",
              "      <td>0.000000</td>\n",
              "      <td>0.0</td>\n",
              "      <td>0.000000</td>\n",
              "      <td>0.0</td>\n",
              "      <td>0.000000</td>\n",
              "      <td>0.0</td>\n",
              "      <td>...</td>\n",
              "      <td>0.0</td>\n",
              "      <td>0.00000</td>\n",
              "      <td>0.0</td>\n",
              "      <td>0.0</td>\n",
              "      <td>0.0</td>\n",
              "      <td>0.0</td>\n",
              "      <td>0.0</td>\n",
              "      <td>0.000000</td>\n",
              "      <td>0.000000</td>\n",
              "      <td>0.000000</td>\n",
              "    </tr>\n",
              "    <tr>\n",
              "      <th>Sankofa</th>\n",
              "      <td>0.000000</td>\n",
              "      <td>0.0</td>\n",
              "      <td>1.0</td>\n",
              "      <td>0.000000</td>\n",
              "      <td>0.000000</td>\n",
              "      <td>0.0</td>\n",
              "      <td>0.000000</td>\n",
              "      <td>0.0</td>\n",
              "      <td>0.029736</td>\n",
              "      <td>0.0</td>\n",
              "      <td>...</td>\n",
              "      <td>0.0</td>\n",
              "      <td>0.00000</td>\n",
              "      <td>0.0</td>\n",
              "      <td>0.0</td>\n",
              "      <td>0.0</td>\n",
              "      <td>0.0</td>\n",
              "      <td>0.0</td>\n",
              "      <td>0.000000</td>\n",
              "      <td>0.000000</td>\n",
              "      <td>0.036504</td>\n",
              "    </tr>\n",
              "    <tr>\n",
              "      <th>The Starling</th>\n",
              "      <td>0.018285</td>\n",
              "      <td>0.0</td>\n",
              "      <td>0.0</td>\n",
              "      <td>1.000000</td>\n",
              "      <td>0.029133</td>\n",
              "      <td>0.0</td>\n",
              "      <td>0.016294</td>\n",
              "      <td>0.0</td>\n",
              "      <td>0.000000</td>\n",
              "      <td>0.0</td>\n",
              "      <td>...</td>\n",
              "      <td>0.0</td>\n",
              "      <td>0.00000</td>\n",
              "      <td>0.0</td>\n",
              "      <td>0.0</td>\n",
              "      <td>0.0</td>\n",
              "      <td>0.0</td>\n",
              "      <td>0.0</td>\n",
              "      <td>0.061674</td>\n",
              "      <td>0.017826</td>\n",
              "      <td>0.045998</td>\n",
              "    </tr>\n",
              "    <tr>\n",
              "      <th>Je Suis Karl</th>\n",
              "      <td>0.000000</td>\n",
              "      <td>0.0</td>\n",
              "      <td>0.0</td>\n",
              "      <td>0.029133</td>\n",
              "      <td>1.000000</td>\n",
              "      <td>0.0</td>\n",
              "      <td>0.000000</td>\n",
              "      <td>0.0</td>\n",
              "      <td>0.000000</td>\n",
              "      <td>0.0</td>\n",
              "      <td>...</td>\n",
              "      <td>0.0</td>\n",
              "      <td>0.00000</td>\n",
              "      <td>0.0</td>\n",
              "      <td>0.0</td>\n",
              "      <td>0.0</td>\n",
              "      <td>0.0</td>\n",
              "      <td>0.0</td>\n",
              "      <td>0.000000</td>\n",
              "      <td>0.000000</td>\n",
              "      <td>0.028473</td>\n",
              "    </tr>\n",
              "  </tbody>\n",
              "</table>\n",
              "<p>5 rows × 6131 columns</p>\n",
              "</div>\n",
              "      <button class=\"colab-df-convert\" onclick=\"convertToInteractive('df-26a1995c-1db4-4a9e-87a4-b42ba727abca')\"\n",
              "              title=\"Convert this dataframe to an interactive table.\"\n",
              "              style=\"display:none;\">\n",
              "        \n",
              "  <svg xmlns=\"http://www.w3.org/2000/svg\" height=\"24px\"viewBox=\"0 0 24 24\"\n",
              "       width=\"24px\">\n",
              "    <path d=\"M0 0h24v24H0V0z\" fill=\"none\"/>\n",
              "    <path d=\"M18.56 5.44l.94 2.06.94-2.06 2.06-.94-2.06-.94-.94-2.06-.94 2.06-2.06.94zm-11 1L8.5 8.5l.94-2.06 2.06-.94-2.06-.94L8.5 2.5l-.94 2.06-2.06.94zm10 10l.94 2.06.94-2.06 2.06-.94-2.06-.94-.94-2.06-.94 2.06-2.06.94z\"/><path d=\"M17.41 7.96l-1.37-1.37c-.4-.4-.92-.59-1.43-.59-.52 0-1.04.2-1.43.59L10.3 9.45l-7.72 7.72c-.78.78-.78 2.05 0 2.83L4 21.41c.39.39.9.59 1.41.59.51 0 1.02-.2 1.41-.59l7.78-7.78 2.81-2.81c.8-.78.8-2.07 0-2.86zM5.41 20L4 18.59l7.72-7.72 1.47 1.35L5.41 20z\"/>\n",
              "  </svg>\n",
              "      </button>\n",
              "      \n",
              "  <style>\n",
              "    .colab-df-container {\n",
              "      display:flex;\n",
              "      flex-wrap:wrap;\n",
              "      gap: 12px;\n",
              "    }\n",
              "\n",
              "    .colab-df-convert {\n",
              "      background-color: #E8F0FE;\n",
              "      border: none;\n",
              "      border-radius: 50%;\n",
              "      cursor: pointer;\n",
              "      display: none;\n",
              "      fill: #1967D2;\n",
              "      height: 32px;\n",
              "      padding: 0 0 0 0;\n",
              "      width: 32px;\n",
              "    }\n",
              "\n",
              "    .colab-df-convert:hover {\n",
              "      background-color: #E2EBFA;\n",
              "      box-shadow: 0px 1px 2px rgba(60, 64, 67, 0.3), 0px 1px 3px 1px rgba(60, 64, 67, 0.15);\n",
              "      fill: #174EA6;\n",
              "    }\n",
              "\n",
              "    [theme=dark] .colab-df-convert {\n",
              "      background-color: #3B4455;\n",
              "      fill: #D2E3FC;\n",
              "    }\n",
              "\n",
              "    [theme=dark] .colab-df-convert:hover {\n",
              "      background-color: #434B5C;\n",
              "      box-shadow: 0px 1px 3px 1px rgba(0, 0, 0, 0.15);\n",
              "      filter: drop-shadow(0px 1px 2px rgba(0, 0, 0, 0.3));\n",
              "      fill: #FFFFFF;\n",
              "    }\n",
              "  </style>\n",
              "\n",
              "      <script>\n",
              "        const buttonEl =\n",
              "          document.querySelector('#df-26a1995c-1db4-4a9e-87a4-b42ba727abca button.colab-df-convert');\n",
              "        buttonEl.style.display =\n",
              "          google.colab.kernel.accessAllowed ? 'block' : 'none';\n",
              "\n",
              "        async function convertToInteractive(key) {\n",
              "          const element = document.querySelector('#df-26a1995c-1db4-4a9e-87a4-b42ba727abca');\n",
              "          const dataTable =\n",
              "            await google.colab.kernel.invokeFunction('convertToInteractive',\n",
              "                                                     [key], {});\n",
              "          if (!dataTable) return;\n",
              "\n",
              "          const docLinkHtml = 'Like what you see? Visit the ' +\n",
              "            '<a target=\"_blank\" href=https://colab.research.google.com/notebooks/data_table.ipynb>data table notebook</a>'\n",
              "            + ' to learn more about interactive tables.';\n",
              "          element.innerHTML = '';\n",
              "          dataTable['output_type'] = 'display_data';\n",
              "          await google.colab.output.renderOutput(dataTable, element);\n",
              "          const docLink = document.createElement('div');\n",
              "          docLink.innerHTML = docLinkHtml;\n",
              "          element.appendChild(docLink);\n",
              "        }\n",
              "      </script>\n",
              "    </div>\n",
              "  </div>\n",
              "  "
            ]
          },
          "metadata": {},
          "execution_count": 61
        }
      ]
    },
    {
      "cell_type": "markdown",
      "source": [
        "по диагонали единицы так как фильм сравнивается сам с собой - и соответсвенно  полностью похож."
      ],
      "metadata": {
        "id": "Pj6M7shTVM1L"
      }
    },
    {
      "cell_type": "markdown",
      "source": [
        "Напишем функцию для получения рекомендаций"
      ],
      "metadata": {
        "id": "_qGoRb9MWIEn"
      }
    },
    {
      "cell_type": "code",
      "source": [
        "def get_recomendations(title, cosine_sim=cosine_sim_df):\n",
        "    idx = indices[title]\n",
        "    # получаем похожесть для этого фильма\n",
        "    sim_scores = list(enumerate(cosine_sim_df.loc[title]))\n",
        "\n",
        "    # сортируем фильны по похожести к полученному фильму\n",
        "    sim_scores = sorted(sim_scores, key=lambda x: x[1], reverse=True)\n",
        "    # отберем первые 10\n",
        "    sim_scores = sim_scores[1:11]\n",
        "    # получаем индексы этих 10 фильмов\n",
        "    movie_indeces = [i[0] for i in sim_scores]\n",
        "\n",
        "    return netflix_movie['title'].iloc[movie_indeces]"
      ],
      "metadata": {
        "id": "aC4cr6Y9QzOQ"
      },
      "execution_count": 62,
      "outputs": []
    },
    {
      "cell_type": "markdown",
      "source": [
        "Рекомендации основанные на сюжете"
      ],
      "metadata": {
        "id": "VYi9exSsYcRl"
      }
    },
    {
      "cell_type": "code",
      "source": [
        "# выберем фильм на основе которого хотим получить рекомендациюъ\n",
        "\n",
        "film = netflix_movie['title'].sample().values[0]\n",
        "film\n"
      ],
      "metadata": {
        "colab": {
          "base_uri": "https://localhost:8080/",
          "height": 36
        },
        "id": "2_7GPZOOZEgf",
        "outputId": "dbe106b3-97bb-48a3-d138-78b4d63e373b"
      },
      "execution_count": 104,
      "outputs": [
        {
          "output_type": "execute_result",
          "data": {
            "text/plain": [
              "'Officer Downe'"
            ],
            "application/vnd.google.colaboratory.intrinsic+json": {
              "type": "string"
            }
          },
          "metadata": {},
          "execution_count": 104
        }
      ]
    },
    {
      "cell_type": "code",
      "source": [
        "# посмотрим не его описание\n",
        "netflix_movie[netflix_movie['title'] == film]['description'].iloc[0]"
      ],
      "metadata": {
        "colab": {
          "base_uri": "https://localhost:8080/",
          "height": 36
        },
        "id": "uMazExqIZWa4",
        "outputId": "49511cc8-7ab1-47de-85ee-4a1fac167e8e"
      },
      "execution_count": 105,
      "outputs": [
        {
          "output_type": "execute_result",
          "data": {
            "text/plain": [
              "'Fallen Los Angeles police officer Terrence Downe finds new life as a secret weapon: a scientifically altered super-cop with unlimited lives.'"
            ],
            "application/vnd.google.colaboratory.intrinsic+json": {
              "type": "string"
            }
          },
          "metadata": {},
          "execution_count": 105
        }
      ]
    },
    {
      "cell_type": "code",
      "source": [
        "# получим рекомендуемый фильм\n",
        "rec = get_recomendations(film).values[0]\n",
        "rec"
      ],
      "metadata": {
        "colab": {
          "base_uri": "https://localhost:8080/",
          "height": 36
        },
        "id": "4iYhsFrAZQyj",
        "outputId": "239e595a-0865-460d-82b5-290b5908f9b5"
      },
      "execution_count": 108,
      "outputs": [
        {
          "output_type": "execute_result",
          "data": {
            "text/plain": [
              "'Resident Evil: Afterlife'"
            ],
            "application/vnd.google.colaboratory.intrinsic+json": {
              "type": "string"
            }
          },
          "metadata": {},
          "execution_count": 108
        }
      ]
    },
    {
      "cell_type": "code",
      "source": [
        "#  посмотрим на описание реекомендуемого фильма\n",
        "netflix_movie[netflix_movie['title'] == rec]['description'].iloc[0]"
      ],
      "metadata": {
        "colab": {
          "base_uri": "https://localhost:8080/",
          "height": 36
        },
        "id": "J8Y8H7ZDYgF_",
        "outputId": "73a78403-54a1-4ca6-9523-e0feae29f4bc"
      },
      "execution_count": 109,
      "outputs": [
        {
          "output_type": "execute_result",
          "data": {
            "text/plain": [
              "'The Undead Apocalypse continues as super-soldier Alice finds her way to a supposed sanctuary in Los Angeles, which may just be a deadly trap.'"
            ],
            "application/vnd.google.colaboratory.intrinsic+json": {
              "type": "string"
            }
          },
          "metadata": {},
          "execution_count": 109
        }
      ]
    },
    {
      "cell_type": "markdown",
      "source": [
        "в описании к фильмам еть некоторая схожесть - упоминание одного города, слово супер и находит, не много - но это наиболее похоже по набору слов в описании."
      ],
      "metadata": {
        "id": "QQoDQB1BdsSP"
      }
    },
    {
      "cell_type": "code",
      "source": [
        "# посмотрим на значение похожести \n",
        "cosine_sim_df[film].sort_values(ascending=False)[:5]"
      ],
      "metadata": {
        "colab": {
          "base_uri": "https://localhost:8080/"
        },
        "id": "Dx8ylmkvZc-m",
        "outputId": "1d8bb973-2d38-4502-a300-61fd9d764253"
      },
      "execution_count": 111,
      "outputs": [
        {
          "output_type": "execute_result",
          "data": {
            "text/plain": [
              "title\n",
              "Officer Downe               1.000000\n",
              "Resident Evil: Afterlife    0.180074\n",
              "Choked: Paisa Bolta Hai     0.154838\n",
              "Midnight Run                0.152402\n",
              "Whisky                      0.150333\n",
              "Name: Officer Downe, dtype: float64"
            ]
          },
          "metadata": {},
          "execution_count": 111
        }
      ]
    }
  ]
}